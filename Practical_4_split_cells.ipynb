{
 "cells": [
  {
   "cell_type": "markdown",
   "id": "9fd00cef",
   "metadata": {},
   "source": [
    "# Practical_4: Flow control"
   ]
  },
  {
   "cell_type": "markdown",
   "id": "497af3a0",
   "metadata": {},
   "source": [
    "\n",
    "\n",
    "---\n",
    "\n",
    "### Exercise 1:\n",
    "Write a Python program that checks if a number is positive or negative.\n"
   ]
  },
  {
   "cell_type": "code",
   "execution_count": 1,
   "id": "4525d7b1",
   "metadata": {},
   "outputs": [
    {
     "name": "stdout",
     "output_type": "stream",
     "text": [
      "positive\n"
     ]
    }
   ],
   "source": [
    "# Exercise 1\n",
    "x = 13\n",
    "if x >= 0:\n",
    "    print(\"positive\")\n",
    "else:\n",
    "    print(\"negative\")"
   ]
  },
  {
   "cell_type": "markdown",
   "id": "289c0fec",
   "metadata": {},
   "source": [
    "\n",
    "---\n",
    "\n",
    "### Exercise 2:\n",
    "Write a Python function that checks if a string starts with a vowel.\n"
   ]
  },
  {
   "cell_type": "code",
   "execution_count": 2,
   "id": "3adbe475",
   "metadata": {},
   "outputs": [
    {
     "name": "stdout",
     "output_type": "stream",
     "text": [
      "True\n"
     ]
    }
   ],
   "source": [
    "# Exercise 2\n",
    "def starts_with_vowel(s):\n",
    "    return s[0].lower() in 'aeiou'\n",
    "x = \"apple\"\n",
    "print(f\"{starts_with_vowel(x)}\")"
   ]
  },
  {
   "cell_type": "markdown",
   "id": "d64fdd3e",
   "metadata": {},
   "source": [
    "\n",
    "---\n",
    "\n",
    "### Exercise 3:\n",
    "Write a Python program that takes a list of integers and prints \"Even\" for each even number and \"Odd\" for each odd number.\n"
   ]
  },
  {
   "cell_type": "code",
   "execution_count": 3,
   "id": "e6926b1c",
   "metadata": {},
   "outputs": [
    {
     "name": "stdout",
     "output_type": "stream",
     "text": [
      "Odd\n",
      "Even\n",
      "Odd\n",
      "Even\n",
      "Odd\n"
     ]
    }
   ],
   "source": [
    "# Exercise 3\n",
    "numbers = [1, 2, 3, 4, 5]\n",
    "for num in numbers:\n",
    "    print(\"Even\" if num % 2 == 0 else \"Odd\")"
   ]
  },
  {
   "cell_type": "markdown",
   "id": "b5ce7b99",
   "metadata": {},
   "source": [
    "\n",
    "---\n",
    "\n",
    "### Exercise 4:\n",
    "Write a Python program that checks if a given year is a leap year.\n"
   ]
  },
  {
   "cell_type": "code",
   "execution_count": 4,
   "id": "eb3d99f0",
   "metadata": {},
   "outputs": [
    {
     "name": "stdout",
     "output_type": "stream",
     "text": [
      "Leap year\n"
     ]
    }
   ],
   "source": [
    "# Exercise 4\n",
    "year = 2024\n",
    "if (year % 4 == 0 and year % 100 != 0) or (year % 400 == 0):\n",
    "    print(\"Leap year\")\n",
    "else:\n",
    "    print(\"Not a leap year\")"
   ]
  },
  {
   "cell_type": "markdown",
   "id": "c5496d7d",
   "metadata": {},
   "source": [
    "\n",
    "---\n",
    "\n",
    "### Exercise 5:\n",
    "Write a Python function that checks if a number is divisible by both 3 and 5.\n"
   ]
  },
  {
   "cell_type": "code",
   "execution_count": 5,
   "id": "46b1bd68",
   "metadata": {},
   "outputs": [
    {
     "name": "stdout",
     "output_type": "stream",
     "text": [
      "True\n"
     ]
    }
   ],
   "source": [
    "# Exercise 5\n",
    "def divisible_by_3_and_5(n):\n",
    "    return n % 3 == 0 and n % 5 == 0\n",
    "num = 15\n",
    "print(divisible_by_3_and_5(num))"
   ]
  },
  {
   "cell_type": "markdown",
   "id": "b0348707",
   "metadata": {},
   "source": [
    "\n",
    "---\n",
    "\n",
    "### Exercise 6:\n",
    "Write a Python program that prints \"Hot\" if the temperature is above 30, \"Warm\" if it is between 15 and 30, and \"Cold\" if it is below 15.\n"
   ]
  },
  {
   "cell_type": "code",
   "execution_count": 6,
   "id": "dfde8564",
   "metadata": {},
   "outputs": [
    {
     "name": "stdout",
     "output_type": "stream",
     "text": [
      "Warm\n"
     ]
    }
   ],
   "source": [
    "# Exercise 6\n",
    "temp = 25\n",
    "if temp > 30:\n",
    "    print(\"Hot\")\n",
    "elif 15 <= temp <= 30:\n",
    "    print(\"Warm\")\n",
    "else:\n",
    "    print(\"Cold\")"
   ]
  },
  {
   "cell_type": "markdown",
   "id": "ec1d713e",
   "metadata": {},
   "source": [
    "\n",
    "---\n",
    "\n",
    "### Exercise 7:\n",
    "Write a Python program that checks if a string contains the letter 'a'.\n"
   ]
  },
  {
   "cell_type": "code",
   "execution_count": 7,
   "id": "2eb30c57",
   "metadata": {},
   "outputs": [
    {
     "name": "stdout",
     "output_type": "stream",
     "text": [
      "Contains 'a'\n"
     ]
    }
   ],
   "source": [
    "# Exercise 7\n",
    "s = \"banana\"\n",
    "if 'a' in s:\n",
    "    print(\"Contains 'a'\")\n",
    "else:\n",
    "    print(\"Does not contain 'a'\")"
   ]
  },
  {
   "cell_type": "markdown",
   "id": "8194f567",
   "metadata": {},
   "source": [
    "\n",
    "---\n",
    "\n",
    "### Exercise 8:\n",
    "Write a Python function that checks if two numbers are equal, or which one is larger.\n"
   ]
  },
  {
   "cell_type": "code",
   "execution_count": 9,
   "id": "ede9943f",
   "metadata": {},
   "outputs": [
    {
     "name": "stdout",
     "output_type": "stream",
     "text": [
      "First is larger\n",
      "None\n"
     ]
    }
   ],
   "source": [
    "# Exercise 8\n",
    "def compare_numbers(a, b):\n",
    "    if a == b:\n",
    "        print(\"Equal\")\n",
    "    elif a > b:\n",
    "        print(\"First is larger\")\n",
    "    else:\n",
    "        print(\"Second is larger\")\n",
    "print(compare_numbers(10,5))"
   ]
  },
  {
   "cell_type": "markdown",
   "id": "9e86c97f",
   "metadata": {},
   "source": [
    "\n",
    "---\n",
    "\n",
    "### Exercise 9:\n",
    "Write a Python program that checks if a list is empty.\n"
   ]
  },
  {
   "cell_type": "code",
   "execution_count": 10,
   "id": "13738c3f",
   "metadata": {},
   "outputs": [
    {
     "name": "stdout",
     "output_type": "stream",
     "text": [
      "List is empty\n"
     ]
    }
   ],
   "source": [
    "# Exercise 9\n",
    "lst = []\n",
    "if not lst:\n",
    "    print(\"List is empty\")\n",
    "else:\n",
    "    print(\"List is not empty\")"
   ]
  },
  {
   "cell_type": "markdown",
   "id": "645a85cc",
   "metadata": {},
   "source": [
    "\n",
    "---\n",
    "\n",
    "### Exercise 10:\n",
    "Write a Python function that takes two strings and checks if they are anagrams.\n"
   ]
  },
  {
   "cell_type": "code",
   "execution_count": 11,
   "id": "756b7d46",
   "metadata": {},
   "outputs": [
    {
     "name": "stdout",
     "output_type": "stream",
     "text": [
      "True\n"
     ]
    }
   ],
   "source": [
    "# Exercise 10\n",
    "def are_anagrams(s1, s2):\n",
    "    return sorted(s1.lower()) == sorted(s2.lower())\n",
    "\n",
    "word1, word2 = \"listen\", \"silent\"\n",
    "print(f\"{are_anagrams(word1, word2)}\")"
   ]
  },
  {
   "cell_type": "markdown",
   "id": "59ebce61",
   "metadata": {},
   "source": [
    "\n",
    "---\n",
    "\n",
    "### Exercise 11:\n",
    "Write a Python program that checks if a number is prime.\n"
   ]
  },
  {
   "cell_type": "code",
   "execution_count": 12,
   "id": "b077d9a1",
   "metadata": {},
   "outputs": [
    {
     "name": "stdout",
     "output_type": "stream",
     "text": [
      "Prime\n"
     ]
    }
   ],
   "source": [
    "# Exercise 11\n",
    "num = 7\n",
    "if num > 1:\n",
    "    for i in range(2, int(num**0.5)+1):\n",
    "        if num % i == 0:\n",
    "            print(\"Not prime\")\n",
    "            break\n",
    "    else:\n",
    "        print(\"Prime\")\n",
    "else:\n",
    "    print(\"Not prime\")"
   ]
  },
  {
   "cell_type": "markdown",
   "id": "531463b8",
   "metadata": {},
   "source": [
    "\n",
    "---\n",
    "\n",
    "### Exercise 12:\n",
    "Write a Python program that checks if a list of numbers is sorted in ascending order.\n"
   ]
  },
  {
   "cell_type": "code",
   "execution_count": 13,
   "id": "01fc5a9e",
   "metadata": {},
   "outputs": [
    {
     "name": "stdout",
     "output_type": "stream",
     "text": [
      "True\n"
     ]
    }
   ],
   "source": [
    "# Exercise 12\n",
    "def is_sorted_ascending(lst):\n",
    "    return lst == sorted(lst)\n",
    "\n",
    "numbers = [1, 2, 3, 4, 5]\n",
    "print(f\"{is_sorted_ascending(numbers)}\")"
   ]
  },
  {
   "cell_type": "markdown",
   "id": "b15a0cca",
   "metadata": {},
   "source": [
    "\n",
    "---\n",
    "\n",
    "### Exercise 13:\n",
    "Write a Python function that takes a character and checks if it is a digit.\n"
   ]
  },
  {
   "cell_type": "code",
   "execution_count": 14,
   "id": "2dc9a053",
   "metadata": {},
   "outputs": [
    {
     "name": "stdout",
     "output_type": "stream",
     "text": [
      "True\n"
     ]
    }
   ],
   "source": [
    "# Exercise 13\n",
    "def is_digit_char(char):\n",
    "    return char.isdigit()\n",
    "\n",
    "character = '5'\n",
    "print(f\"{is_digit_char(character)}\")"
   ]
  },
  {
   "cell_type": "markdown",
   "id": "60190b10",
   "metadata": {},
   "source": [
    "\n",
    "---\n",
    "\n",
    "### Exercise 14:\n",
    "Write a Python function that checks if a string contains only uppercase letters.\n"
   ]
  },
  {
   "cell_type": "code",
   "execution_count": 15,
   "id": "4ed8ebfa",
   "metadata": {},
   "outputs": [
    {
     "name": "stdout",
     "output_type": "stream",
     "text": [
      "True\n"
     ]
    }
   ],
   "source": [
    "# Exercise 14\n",
    "def is_all_uppercase(s):\n",
    "    return s.isupper() and s.isalpha()\n",
    "\n",
    "text = \"HELLO\"\n",
    "print(f\"{is_all_uppercase(text)}\")"
   ]
  },
  {
   "cell_type": "markdown",
   "id": "7f7dd4fd",
   "metadata": {},
   "source": [
    "\n",
    "---\n",
    "\n",
    "### Exercise 15:\n",
    "Write a Python program that checks if a number is a multiple of 10.\n"
   ]
  },
  {
   "cell_type": "code",
   "execution_count": 16,
   "id": "e35d5709",
   "metadata": {},
   "outputs": [
    {
     "name": "stdout",
     "output_type": "stream",
     "text": [
      "True\n"
     ]
    }
   ],
   "source": [
    "# Exercise 15\n",
    "def is_multiple_of_10(n):\n",
    "    return n % 10 == 0\n",
    "\n",
    "num = 50\n",
    "print(f\"{is_multiple_of_10(num)}\")"
   ]
  },
  {
   "cell_type": "markdown",
   "id": "83e1c5d3",
   "metadata": {},
   "source": [
    "\n",
    "---\n",
    "\n",
    "### Exercise 16:\n",
    "Write a Python function that checks if a list contains any duplicates.\n"
   ]
  },
  {
   "cell_type": "code",
   "execution_count": 17,
   "id": "24d52edd",
   "metadata": {},
   "outputs": [
    {
     "name": "stdout",
     "output_type": "stream",
     "text": [
      "True\n"
     ]
    }
   ],
   "source": [
    "# Exercise 16\n",
    "def has_duplicates(lst):\n",
    "    return len(lst) != len(set(lst))\n",
    "\n",
    "numbers = [1, 2, 3, 2, 4]\n",
    "print(f\"{has_duplicates(numbers)}\")"
   ]
  },
  {
   "cell_type": "markdown",
   "id": "d9533146",
   "metadata": {},
   "source": [
    "\n",
    "---\n",
    "\n",
    "### Exercise 17:\n",
    "Write a Python program that prints \"Teenager\" if the age is between 13 and 19, otherwise it prints \"Not a teenager.\"\n"
   ]
  },
  {
   "cell_type": "code",
   "execution_count": 18,
   "id": "bd9212dd",
   "metadata": {},
   "outputs": [
    {
     "name": "stdout",
     "output_type": "stream",
     "text": [
      "Teenager\n"
     ]
    }
   ],
   "source": [
    "# Exercise 17\n",
    "def is_teenager(age):\n",
    "    if 13 <= age <= 19:\n",
    "        return \"Teenager\"\n",
    "    else:\n",
    "        return \"Not a teenager\"\n",
    "\n",
    "age = 16\n",
    "print(is_teenager(age))"
   ]
  },
  {
   "cell_type": "markdown",
   "id": "370f2ba1",
   "metadata": {},
   "source": [
    "\n",
    "---\n",
    "\n",
    "### Exercise 18:\n",
    "Write a Python function that checks if a list contains an element greater than 100.\n"
   ]
  },
  {
   "cell_type": "code",
   "execution_count": 19,
   "id": "23cde312",
   "metadata": {},
   "outputs": [
    {
     "name": "stdout",
     "output_type": "stream",
     "text": [
      "True\n"
     ]
    }
   ],
   "source": [
    "# Exercise 18\n",
    "def has_element_gt_100(lst):\n",
    "    return any(x > 100 for x in lst)\n",
    "\n",
    "numbers = [50, 75, 120, 30]\n",
    "print(f\"{has_element_gt_100(numbers)}\")"
   ]
  },
  {
   "cell_type": "markdown",
   "id": "322ae5e3",
   "metadata": {},
   "source": [
    "\n",
    "---\n",
    "\n",
    "### Exercise 19:\n",
    "Write a Python program that checks if a number is even or odd.\n"
   ]
  },
  {
   "cell_type": "code",
   "execution_count": 20,
   "id": "a91bd104",
   "metadata": {},
   "outputs": [
    {
     "name": "stdout",
     "output_type": "stream",
     "text": [
      "Even\n"
     ]
    }
   ],
   "source": [
    "# Exercise 19\n",
    "n = 8\n",
    "print(\"Even\" if n % 2 == 0 else \"Odd\")"
   ]
  },
  {
   "cell_type": "markdown",
   "id": "98e0835d",
   "metadata": {},
   "source": [
    "\n",
    "---\n",
    "\n",
    "### Exercise 20:\n",
    "Write a Python function that checks if a string ends with a punctuation mark.\n"
   ]
  },
  {
   "cell_type": "code",
   "execution_count": 21,
   "id": "31fd2458",
   "metadata": {},
   "outputs": [
    {
     "name": "stdout",
     "output_type": "stream",
     "text": [
      "True\n"
     ]
    }
   ],
   "source": [
    "# Exercise 20\n",
    "def ends_with_punctuation(s):\n",
    "    punctuation = \".,!?;:\"\n",
    "    return s[-1] in punctuation if s else False\n",
    "\n",
    "text = \"Hello world!\"\n",
    "print(f\"{ends_with_punctuation(text)}\")"
   ]
  },
  {
   "cell_type": "markdown",
   "id": "fb313702",
   "metadata": {},
   "source": [
    "\n",
    "---\n",
    "\n",
    "### Exercise 21:\n",
    "Write a Python program that prints \"Yes\" if the number is between 1 and 100, otherwise it prints \"No.\"\n"
   ]
  },
  {
   "cell_type": "code",
   "execution_count": 22,
   "id": "e362bd56",
   "metadata": {},
   "outputs": [
    {
     "name": "stdout",
     "output_type": "stream",
     "text": [
      "Yes\n"
     ]
    }
   ],
   "source": [
    "# Exercise 21\n",
    "def is_between_1_and_100(n):\n",
    "    return \"Yes\" if 1 <= n <= 100 else \"No\"\n",
    "\n",
    "num = 75\n",
    "print(is_between_1_and_100(num))"
   ]
  },
  {
   "cell_type": "markdown",
   "id": "3afeef94",
   "metadata": {},
   "source": [
    "\n",
    "---\n",
    "\n",
    "### Exercise 22:\n",
    "Write a Python program that checks if two strings have the same length.\n"
   ]
  },
  {
   "cell_type": "code",
   "execution_count": 23,
   "id": "73b75867",
   "metadata": {},
   "outputs": [
    {
     "name": "stdout",
     "output_type": "stream",
     "text": [
      "True\n"
     ]
    }
   ],
   "source": [
    "# Exercise 22\n",
    "def same_length(s1, s2):\n",
    "    return len(s1) == len(s2)\n",
    "\n",
    "str1, str2 = \"hello\", \"world\"\n",
    "print(f\"{same_length(str1, str2)}\")"
   ]
  },
  {
   "cell_type": "markdown",
   "id": "bdd8e2ae",
   "metadata": {},
   "source": [
    "\n",
    "---\n",
    "\n",
    "### Exercise 23:\n",
    "Write a Python function that checks if a number is greater than its reverse.\n"
   ]
  },
  {
   "cell_type": "code",
   "execution_count": 24,
   "id": "da8ad2f4",
   "metadata": {},
   "outputs": [
    {
     "name": "stdout",
     "output_type": "stream",
     "text": [
      "False\n"
     ]
    }
   ],
   "source": [
    "# Exercise 23\n",
    "def greater_than_reverse(n):\n",
    "    reversed_n = int(str(n)[::-1])\n",
    "    return n > reversed_n\n",
    "\n",
    "num = 123\n",
    "print(f\"{greater_than_reverse(num)}\")"
   ]
  },
  {
   "cell_type": "markdown",
   "id": "fab070bc",
   "metadata": {},
   "source": [
    "\n",
    "---\n",
    "\n",
    "### Exercise 24:\n",
    "Write a Python program that checks if a password contains both letters and numbers.\n"
   ]
  },
  {
   "cell_type": "code",
   "execution_count": 25,
   "id": "6e22f9b2",
   "metadata": {},
   "outputs": [
    {
     "name": "stdout",
     "output_type": "stream",
     "text": [
      "Valid\n"
     ]
    }
   ],
   "source": [
    "# Exercise 24\n",
    "password = \"abc123\"\n",
    "has_letter = any(c.isalpha() for c in password)\n",
    "has_number = any(c.isdigit() for c in password)\n",
    "if has_letter and has_number:\n",
    "    print(\"Valid\")\n",
    "else:\n",
    "    print(\"Invalid\")"
   ]
  },
  {
   "cell_type": "markdown",
   "id": "11cb6e7b",
   "metadata": {},
   "source": [
    "\n",
    "---\n",
    "\n",
    "### Exercise 25:\n",
    "Write a Python program that checks if a number is between two given numbers.\n"
   ]
  },
  {
   "cell_type": "code",
   "execution_count": 26,
   "id": "38cab028",
   "metadata": {},
   "outputs": [
    {
     "name": "stdout",
     "output_type": "stream",
     "text": [
      "True\n"
     ]
    }
   ],
   "source": [
    "# Exercise 25\n",
    "def is_between(n, min_val, max_val):\n",
    "    return min_val <= n <= max_val\n",
    "\n",
    "num, min_n, max_n = 15, 10, 20\n",
    "print(f\"{is_between(num, min_n, max_n)}\")"
   ]
  },
  {
   "cell_type": "markdown",
   "id": "50b24a42",
   "metadata": {},
   "source": [
    "\n",
    "---\n",
    "\n",
    "### Exercise 26:\n",
    "Write a Python function that checks if all characters in a string are unique.\n"
   ]
  },
  {
   "cell_type": "code",
   "execution_count": 27,
   "id": "62537159",
   "metadata": {},
   "outputs": [
    {
     "name": "stdout",
     "output_type": "stream",
     "text": [
      "False\n"
     ]
    }
   ],
   "source": [
    "# Exercise 26\n",
    "def all_unique_chars(s):\n",
    "    return len(s) == len(set(s))\n",
    "\n",
    "text = \"hello\"\n",
    "print(f\"{all_unique_chars(text)}\")\n"
   ]
  },
  {
   "cell_type": "markdown",
   "id": "54ffa82e",
   "metadata": {},
   "source": [
    "\n",
    "---\n",
    "\n",
    "### Exercise 27:\n",
    "Write a Python program that checks if a number is a perfect square.\n"
   ]
  },
  {
   "cell_type": "code",
   "execution_count": 28,
   "id": "dd0707b7",
   "metadata": {},
   "outputs": [
    {
     "name": "stdout",
     "output_type": "stream",
     "text": [
      "True\n"
     ]
    }
   ],
   "source": [
    "# Exercise 27\n",
    "def is_perfect_square(n):\n",
    "    if n < 0:\n",
    "        return False\n",
    "    sqrt_n = int(n**0.5)\n",
    "    return sqrt_n * sqrt_n == n\n",
    "\n",
    "num = 16\n",
    "print(f\"{is_perfect_square(num)}\")"
   ]
  },
  {
   "cell_type": "markdown",
   "id": "78349b82",
   "metadata": {},
   "source": [
    "\n",
    "---\n",
    "\n",
    "### Exercise 28:\n",
    "Write a Python function that checks if a word is a palindrome.\n"
   ]
  },
  {
   "cell_type": "code",
   "execution_count": 29,
   "id": "04056d04",
   "metadata": {},
   "outputs": [
    {
     "name": "stdout",
     "output_type": "stream",
     "text": [
      "True\n"
     ]
    }
   ],
   "source": [
    "# Exercise 28\n",
    "def is_palindrome(word):\n",
    "    word = word.lower()\n",
    "    return word == word[::-1]\n",
    "\n",
    "word = \"radar\"\n",
    "print(f\"{is_palindrome(word)}\")"
   ]
  },
  {
   "cell_type": "markdown",
   "id": "9728cce0",
   "metadata": {},
   "source": [
    "\n",
    "---\n",
    "\n",
    "### Exercise 29:\n",
    "Write a Python program that prints \"Fizz\" if a number is divisible by 3, \"Buzz\" if it is divisible by 5, and \"FizzBuzz\" if divisible by both.\n"
   ]
  },
  {
   "cell_type": "code",
   "execution_count": 30,
   "id": "d3caedaa",
   "metadata": {},
   "outputs": [
    {
     "name": "stdout",
     "output_type": "stream",
     "text": [
      "FizzBuzz\n"
     ]
    }
   ],
   "source": [
    "# Exercise 29\n",
    "n = 15\n",
    "if n % 3 == 0 and n % 5 == 0:\n",
    "    print(\"FizzBuzz\")\n",
    "elif n % 3 == 0:\n",
    "    print(\"Fizz\")\n",
    "elif n % 5 == 0:\n",
    "    print(\"Buzz\")\n",
    "else:\n",
    "    print(n)"
   ]
  },
  {
   "cell_type": "markdown",
   "id": "b3c19de5",
   "metadata": {},
   "source": [
    "\n",
    "---\n",
    "\n",
    "### Exercise 30:\n",
    "Write a Python program that checks if the sum of the digits of a number is even.\n"
   ]
  },
  {
   "cell_type": "code",
   "execution_count": 31,
   "id": "1d8d47e4",
   "metadata": {},
   "outputs": [
    {
     "name": "stdout",
     "output_type": "stream",
     "text": [
      "True\n"
     ]
    }
   ],
   "source": [
    "# Exercise 30\n",
    "def sum_of_digits_even(n):\n",
    "    digit_sum = sum(int(digit) for digit in str(abs(n)))\n",
    "    return digit_sum % 2 == 0\n",
    "\n",
    "num = 123\n",
    "print(f\"{sum_of_digits_even(num)}\")"
   ]
  },
  {
   "cell_type": "markdown",
   "id": "dbe78293",
   "metadata": {},
   "source": [
    "\n",
    "---\n",
    "\n",
    "### Exercise 31:\n",
    "Write a Python program that checks if a string is a valid email address.\n"
   ]
  },
  {
   "cell_type": "code",
   "execution_count": 32,
   "id": "dc64fe29",
   "metadata": {},
   "outputs": [
    {
     "name": "stdout",
     "output_type": "stream",
     "text": [
      "True\n"
     ]
    }
   ],
   "source": [
    "# Exercise 31\n",
    "def is_valid_email(email):\n",
    "    return \"@\" in email and \".\" in email.split(\"@\")[-1]\n",
    "\n",
    "email = \"user@example.com\"\n",
    "print(f\"{is_valid_email(email)}\")"
   ]
  },
  {
   "cell_type": "markdown",
   "id": "32922851",
   "metadata": {},
   "source": [
    "\n",
    "---\n",
    "\n",
    "### Exercise 32:\n",
    "Write a Python function that checks if a number is within 10 of 100 or 200.\n"
   ]
  },
  {
   "cell_type": "code",
   "execution_count": 33,
   "id": "c3ae205c",
   "metadata": {},
   "outputs": [
    {
     "name": "stdout",
     "output_type": "stream",
     "text": [
      "True\n"
     ]
    }
   ],
   "source": [
    "# Exercise 32\n",
    "def within_10_of_100_or_200(n):\n",
    "    return abs(n - 100) <= 10 or abs(n - 200) <= 10\n",
    "\n",
    "num = 95\n",
    "print(f\"{within_10_of_100_or_200(num)}\")"
   ]
  },
  {
   "cell_type": "markdown",
   "id": "fedc8718",
   "metadata": {},
   "source": [
    "\n",
    "---\n",
    "\n",
    "### Exercise 33:\n",
    "Write a Python program that checks if a given string is a valid URL.\n"
   ]
  },
  {
   "cell_type": "code",
   "execution_count": 34,
   "id": "756593ce",
   "metadata": {},
   "outputs": [
    {
     "name": "stdout",
     "output_type": "stream",
     "text": [
      "True\n"
     ]
    }
   ],
   "source": [
    "# Exercise 33\n",
    "def is_valid_url(url):\n",
    "    return url.startswith((\"http://\", \"https://\")) and \".\" in url\n",
    "\n",
    "url = \"https://www.example.com\"\n",
    "print(f\"{is_valid_url(url)}\")"
   ]
  },
  {
   "cell_type": "markdown",
   "id": "13e8fcae",
   "metadata": {},
   "source": [
    "\n",
    "---\n",
    "\n",
    "### Exercise 34:\n",
    "Write a Python program that checks if a list contains all even numbers.\n"
   ]
  },
  {
   "cell_type": "code",
   "execution_count": 35,
   "id": "e3069861",
   "metadata": {},
   "outputs": [
    {
     "name": "stdout",
     "output_type": "stream",
     "text": [
      "True\n"
     ]
    }
   ],
   "source": [
    "# Exercise 34\n",
    "def all_even_numbers(lst):\n",
    "    return all(num % 2 == 0 for num in lst)\n",
    "\n",
    "numbers = [2, 4, 6, 8]\n",
    "print(f\"{all_even_numbers(numbers)}\")"
   ]
  },
  {
   "cell_type": "markdown",
   "id": "f19e5362",
   "metadata": {},
   "source": [
    "\n",
    "---\n",
    "\n",
    "### Exercise 35:\n",
    "Write a Python program that checks if a word is longer than a given length.\n"
   ]
  },
  {
   "cell_type": "code",
   "execution_count": 36,
   "id": "491df226",
   "metadata": {},
   "outputs": [
    {
     "name": "stdout",
     "output_type": "stream",
     "text": [
      "True\n"
     ]
    }
   ],
   "source": [
    "# Exercise 35\n",
    "def is_longer_than(word, length):\n",
    "    return len(word) > length\n",
    "\n",
    "word, min_length = \"programming\", 5\n",
    "print(f\"{is_longer_than(word, min_length)}\")"
   ]
  },
  {
   "cell_type": "markdown",
   "id": "68956c6c",
   "metadata": {},
   "source": [
    "\n",
    "---\n",
    "\n",
    "### Exercise 36:\n",
    "Write a Python program that checks if a list contains only positive numbers.\n"
   ]
  },
  {
   "cell_type": "code",
   "execution_count": 37,
   "id": "09112e89",
   "metadata": {},
   "outputs": [
    {
     "name": "stdout",
     "output_type": "stream",
     "text": [
      "True\n"
     ]
    }
   ],
   "source": [
    "# Exercise 36\n",
    "def all_positive(lst):\n",
    "    return all(num > 0 for num in lst)\n",
    "\n",
    "numbers = [1, 2, 3, 4]\n",
    "print(f\"{all_positive(numbers)}\")"
   ]
  },
  {
   "cell_type": "markdown",
   "id": "14f0333b",
   "metadata": {},
   "source": [
    "\n",
    "---\n",
    "\n",
    "### Exercise 37:\n",
    "Write a Python function that checks if a year is a century year (i.e., divisible by 100).\n"
   ]
  },
  {
   "cell_type": "code",
   "execution_count": 38,
   "id": "9a0ee8fa",
   "metadata": {},
   "outputs": [
    {
     "name": "stdout",
     "output_type": "stream",
     "text": [
      "True\n"
     ]
    }
   ],
   "source": [
    "# Exercise 37\n",
    "def is_century_year(year):\n",
    "    return year % 100 == 0\n",
    "\n",
    "year = 2000\n",
    "print(f\"{is_century_year(year)}\")"
   ]
  },
  {
   "cell_type": "markdown",
   "id": "6271bb93",
   "metadata": {},
   "source": [
    "\n",
    "---\n",
    "\n",
    "### Exercise 38:\n",
    "Write a Python program that checks if the sum of a list of numbers is greater than 100.\n"
   ]
  },
  {
   "cell_type": "code",
   "execution_count": 39,
   "id": "6ddf783b",
   "metadata": {},
   "outputs": [
    {
     "name": "stdout",
     "output_type": "stream",
     "text": [
      "True\n"
     ]
    }
   ],
   "source": [
    "# Exercise 38\n",
    "def sum_greater_than_100(lst):\n",
    "    return sum(lst) > 100\n",
    "\n",
    "numbers = [30, 40, 50]\n",
    "print(f\"{sum_greater_than_100(numbers)}\")"
   ]
  },
  {
   "cell_type": "markdown",
   "id": "8a8b88a8",
   "metadata": {},
   "source": [
    "\n",
    "---\n",
    "\n",
    "### Exercise 39:\n",
    "Write a Python function that checks if a given word is a substring of another string.\n"
   ]
  },
  {
   "cell_type": "code",
   "execution_count": 40,
   "id": "2d077065",
   "metadata": {},
   "outputs": [
    {
     "name": "stdout",
     "output_type": "stream",
     "text": [
      "True\n"
     ]
    }
   ],
   "source": [
    "# Exercise 39\n",
    "def is_substring(word, string):\n",
    "    return word in string\n",
    "\n",
    "word, text = \"cat\", \"concatenate\"\n",
    "print(f\"{is_substring(word, text)}\")"
   ]
  },
  {
   "cell_type": "markdown",
   "id": "b21a3bd9",
   "metadata": {},
   "source": [
    "\n",
    "---\n",
    "\n",
    "### Exercise 40:\n",
    "Write a Python program that checks if a number is a power of 2.\n"
   ]
  },
  {
   "cell_type": "code",
   "execution_count": 41,
   "id": "fa1ccd70",
   "metadata": {},
   "outputs": [
    {
     "name": "stdout",
     "output_type": "stream",
     "text": [
      "True\n"
     ]
    }
   ],
   "source": [
    "# Exercise 40\n",
    "def is_power_of_2(n):\n",
    "    return n > 0 and (n & (n - 1)) == 0\n",
    "\n",
    "num = 16\n",
    "print(f\"{is_power_of_2(num)}\")"
   ]
  },
  {
   "cell_type": "markdown",
   "id": "5ecd119f",
   "metadata": {},
   "source": [
    "\n",
    "---\n",
    "\n",
    "### Exercise 41:\n",
    "Write a Python function that checks if a string contains no spaces.\n"
   ]
  },
  {
   "cell_type": "code",
   "execution_count": 42,
   "id": "8017833e",
   "metadata": {},
   "outputs": [
    {
     "name": "stdout",
     "output_type": "stream",
     "text": [
      "True\n"
     ]
    }
   ],
   "source": [
    "# Exercise 41\n",
    "def no_spaces(s):\n",
    "    return \" \" not in s\n",
    "\n",
    "text = \"hello\"\n",
    "print(f\"{no_spaces(text)}\")"
   ]
  },
  {
   "cell_type": "markdown",
   "id": "9b3c2803",
   "metadata": {},
   "source": [
    "\n",
    "---\n",
    "\n",
    "### Exercise 42:\n",
    "Write a Python program that prints \"Yes\" if a number is divisible by both 2 and 3, otherwise it prints \"No.\"\n"
   ]
  },
  {
   "cell_type": "code",
   "execution_count": 43,
   "id": "cdbf39a0",
   "metadata": {},
   "outputs": [
    {
     "name": "stdout",
     "output_type": "stream",
     "text": [
      "Yes\n"
     ]
    }
   ],
   "source": [
    "# Exercise 42\n",
    "n = 12\n",
    "if n % 2 == 0 and n % 3 == 0:\n",
    "    print(\"Yes\")\n",
    "else:\n",
    "    print(\"No\")"
   ]
  },
  {
   "cell_type": "markdown",
   "id": "5a691fcf",
   "metadata": {},
   "source": [
    "\n",
    "---\n",
    "\n",
    "### Exercise 43:\n",
    "Write a Python program that checks if a number is a palindrome.\n"
   ]
  },
  {
   "cell_type": "code",
   "execution_count": 44,
   "id": "e7528a0b",
   "metadata": {},
   "outputs": [
    {
     "name": "stdout",
     "output_type": "stream",
     "text": [
      "True\n"
     ]
    }
   ],
   "source": [
    "# Exercise 43\n",
    "def is_number_palindrome(n):\n",
    "    str_n = str(n)\n",
    "    return str_n == str_n[::-1]\n",
    "\n",
    "num = 121\n",
    "print(f\"{is_number_palindrome(num)}\")"
   ]
  },
  {
   "cell_type": "markdown",
   "id": "49dfa276",
   "metadata": {},
   "source": [
    "\n",
    "---\n",
    "\n",
    "### Exercise 44:\n",
    "Write a Python function that checks if a string is made of only lowercase letters.\n"
   ]
  },
  {
   "cell_type": "code",
   "execution_count": 45,
   "id": "2aa39193",
   "metadata": {},
   "outputs": [
    {
     "name": "stdout",
     "output_type": "stream",
     "text": [
      "True\n"
     ]
    }
   ],
   "source": [
    "# Exercise 44\n",
    "def is_all_lowercase(s):\n",
    "    return s.islower() and s.isalpha()\n",
    "\n",
    "text = \"hello\"\n",
    "print(f\"{is_all_lowercase(text)}\")"
   ]
  },
  {
   "cell_type": "markdown",
   "id": "e5ba21ba",
   "metadata": {},
   "source": [
    "\n",
    "---\n",
    "\n",
    "### Exercise 45:\n",
    "Write a Python program that checks if a string starts with a specific prefix.\n"
   ]
  },
  {
   "cell_type": "code",
   "execution_count": 46,
   "id": "e6670049",
   "metadata": {},
   "outputs": [
    {
     "name": "stdout",
     "output_type": "stream",
     "text": [
      "True\n"
     ]
    }
   ],
   "source": [
    "# Exercise 45\n",
    "def starts_with_prefix(s, prefix):\n",
    "    return s.startswith(prefix)\n",
    "\n",
    "text, prefix = \"programming\", \"prog\"\n",
    "print(f\"{starts_with_prefix(text, prefix)}\")"
   ]
  },
  {
   "cell_type": "markdown",
   "id": "1ee0a3b5",
   "metadata": {},
   "source": [
    "\n",
    "---\n",
    "\n",
    "### Exercise 46:\n",
    "Write a Python function that checks if a number is divisible by any number in a given list.\n"
   ]
  },
  {
   "cell_type": "code",
   "execution_count": 47,
   "id": "7d01ccf9",
   "metadata": {},
   "outputs": [
    {
     "name": "stdout",
     "output_type": "stream",
     "text": [
      "True\n"
     ]
    }
   ],
   "source": [
    "# Exercise 46\n",
    "def divisible_by_any(n, divisors):\n",
    "    return any(n % d == 0 for d in divisors if d != 0)\n",
    "\n",
    "num = 15\n",
    "divisors = [2, 3, 7]\n",
    "print(f\"{divisible_by_any(num, divisors)}\")"
   ]
  },
  {
   "cell_type": "markdown",
   "id": "1563300f",
   "metadata": {},
   "source": [
    "\n",
    "---\n",
    "\n",
    "### Exercise 47:\n",
    "Write a Python program that prints \"Yes\" if a string has more than one occurrence of the same letter.\n"
   ]
  },
  {
   "cell_type": "code",
   "execution_count": 48,
   "id": "923dcbc1",
   "metadata": {},
   "outputs": [
    {
     "name": "stdout",
     "output_type": "stream",
     "text": [
      "Yes\n"
     ]
    }
   ],
   "source": [
    "# Exercise 47\n",
    "def has_repeated_letters(s):\n",
    "    return \"Yes\" if len(s) != len(set(s.lower())) else \"No\"\n",
    "\n",
    "text = \"hello\"\n",
    "print(has_repeated_letters(text))"
   ]
  },
  {
   "cell_type": "markdown",
   "id": "ecfb7eba",
   "metadata": {},
   "source": [
    "\n",
    "---\n",
    "\n",
    "### Exercise 48:\n",
    "Write a Python function that checks if a number is prime by dividing it by numbers up to its square root.\n"
   ]
  },
  {
   "cell_type": "code",
   "execution_count": 49,
   "id": "3492a570",
   "metadata": {},
   "outputs": [
    {
     "name": "stdout",
     "output_type": "stream",
     "text": [
      "True\n"
     ]
    }
   ],
   "source": [
    "# Exercise 48\n",
    "def is_prime_optimized(n):\n",
    "    if n < 2:\n",
    "        return False\n",
    "    if n == 2:\n",
    "        return True\n",
    "    if n % 2 == 0:\n",
    "        return False\n",
    "    for i in range(3, int(n**0.5) + 1, 2):\n",
    "        if n % i == 0:\n",
    "            return False\n",
    "    return True\n",
    "\n",
    "num = 29\n",
    "print(f\"{is_prime_optimized(num)}\")"
   ]
  },
  {
   "cell_type": "markdown",
   "id": "efb3508c",
   "metadata": {},
   "source": [
    "\n",
    "---\n",
    "\n",
    "### Exercise 49:\n",
    "Write a Python program that checks if a number is within 1 of a multiple of 10.\n"
   ]
  },
  {
   "cell_type": "code",
   "execution_count": 50,
   "id": "fc272cc0",
   "metadata": {},
   "outputs": [
    {
     "name": "stdout",
     "output_type": "stream",
     "text": [
      "True\n"
     ]
    }
   ],
   "source": [
    "# Exercise 49\n",
    "def within_1_of_multiple_10(n):\n",
    "    return n % 10 in [0, 1, 9]\n",
    "\n",
    "num = 21\n",
    "print(f\"{within_1_of_multiple_10(num)}\")"
   ]
  },
  {
   "cell_type": "markdown",
   "id": "8c58ab68",
   "metadata": {},
   "source": [
    "\n",
    "---\n",
    "\n",
    "### Exercise 50:\n",
    "Write a Python program that prints \"In range\" if a number is between 10 and 20 (inclusive), otherwise it prints \"Out of range.\"\n"
   ]
  },
  {
   "cell_type": "code",
   "execution_count": 51,
   "id": "24ea2036",
   "metadata": {},
   "outputs": [
    {
     "name": "stdout",
     "output_type": "stream",
     "text": [
      "In range\n"
     ]
    }
   ],
   "source": [
    "# Exercise 50\n",
    "n = 15\n",
    "if 10 <= n <= 20:\n",
    "    print(\"In range\")\n",
    "else:\n",
    "    print(\"Out of range\")"
   ]
  },
  {
   "cell_type": "markdown",
   "id": "87ccd774",
   "metadata": {},
   "source": [
    "\n",
    "---"
   ]
  }
 ],
 "metadata": {
  "kernelspec": {
   "display_name": "Python 3 (ipykernel)",
   "language": "python",
   "name": "python3"
  },
  "language_info": {
   "codemirror_mode": {
    "name": "ipython",
    "version": 3
   },
   "file_extension": ".py",
   "mimetype": "text/x-python",
   "name": "python",
   "nbconvert_exporter": "python",
   "pygments_lexer": "ipython3",
   "version": "3.10.9"
  }
 },
 "nbformat": 4,
 "nbformat_minor": 5
}
