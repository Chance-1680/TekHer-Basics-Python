{
 "cells": [
  {
   "cell_type": "markdown",
   "id": "d68c1dee",
   "metadata": {},
   "source": [
    "# Practical_2: String and files"
   ]
  },
  {
   "cell_type": "markdown",
   "id": "bea983a3",
   "metadata": {},
   "source": [
    "---\n",
    "\n",
    "### Exercise 1:\n",
    "Create a string variable `text` and assign it the value `\"Python is amazing!\"`.\n",
    "\n",
    "```python\n",
    "# Exercise 1\n",
    "```\n",
    "\n",
    "---\n",
    "\n",
    "### Exercise 2:\n",
    "Find the length of the string `\"Hello, World!\"` and store it in a variable `length`.\n",
    "\n",
    "```python\n",
    "# Exercise 2\n",
    "```\n",
    "\n",
    "---\n",
    "\n",
    "### Exercise 3:\n",
    "Convert the string `\"python programming\"` to uppercase and store it in a variable `upper_text`.\n",
    "\n",
    "```python\n",
    "# Exercise 3\n",
    "```\n",
    "\n",
    "---\n",
    "\n",
    "### Exercise 4:\n",
    "Extract the first 5 characters from the string `\"Artificial Intelligence\"`.\n",
    "\n",
    "```python\n",
    "# Exercise 4\n",
    "```\n",
    "\n",
    "---\n",
    "\n",
    "### Exercise 5:\n",
    "Concatenate the strings `\"Hello\"` and `\"World\"` with a space in between.\n",
    "\n",
    "```python\n",
    "# Exercise 5\n",
    "```\n",
    "\n",
    "---\n",
    "\n",
    "### Exercise 6:\n",
    "Replace the word `\"dog\"` with `\"cat\"` in the string `\"The quick brown dog jumps over the lazy dog.\"`.\n",
    "\n",
    "```python\n",
    "# Exercise 6\n",
    "```\n",
    "\n",
    "---\n",
    "\n",
    "### Exercise 7:\n",
    "Split the string `\"apple,banana,orange\"` by commas and store the result in a list `fruits_list`.\n",
    "\n",
    "```python\n",
    "# Exercise 7\n",
    "```\n",
    "\n",
    "---\n",
    "\n",
    "### Exercise 8:\n",
    "Use string formatting to create the sentence `\"My name is Alice and I am 25 years old.\"`, where the name and age are variables.\n",
    "\n",
    "```python\n",
    "# Exercise 8\n",
    "```\n",
    "\n",
    "---\n",
    "\n",
    "### Exercise 9:\n",
    "Check if the string `\"python\"` is present in the sentence `\"I love python programming\"`.\n",
    "\n",
    "```python\n",
    "# Exercise 9\n",
    "```\n",
    "\n",
    "---\n",
    "\n",
    "### Exercise 10:\n",
    "Count the number of occurrences of the letter `\"e\"` in the string `\"Elephant is an elegant animal\"`.\n",
    "\n",
    "```python\n",
    "# Exercise 10\n",
    "```\n",
    "\n",
    "---\n",
    "\n",
    "### Exercise 11:\n",
    "Remove any leading and trailing spaces from the string `\"   Data Science   \"`.\n",
    "\n",
    "```python\n",
    "# Exercise 11\n",
    "```\n",
    "\n",
    "---\n",
    "\n",
    "### Exercise 12:\n",
    "Convert the string `\"100\"` into an integer and store it in a variable `int_value`.\n",
    "\n",
    "```python\n",
    "# Exercise 12\n",
    "```\n",
    "\n",
    "---\n",
    "\n",
    "### Exercise 13:\n",
    "Extract the substring `\"pro\"` from the string `\"programming\"`.\n",
    "\n",
    "```python\n",
    "# Exercise 13\n",
    "```\n",
    "\n",
    "---\n",
    "\n",
    "### Exercise 14:\n",
    "Check if the string `\"data\"` starts with `\"da\"` and ends with `\"ta\"`.\n",
    "\n",
    "```python\n",
    "# Exercise 14\n",
    "```\n",
    "\n",
    "---\n",
    "\n",
    "### Exercise 15:\n",
    "Reverse the string `\"machine learning\"` and store the result in `reversed_text`.\n",
    "\n",
    "```python\n",
    "# Exercise 15\n",
    "```\n",
    "\n",
    "---\n",
    "\n",
    "### Exercise 16:\n",
    "Convert the first letter of each word in the string `\"machine learning is fun\"` to uppercase.\n",
    "\n",
    "```python\n",
    "# Exercise 16\n",
    "```\n",
    "\n",
    "---\n",
    "\n",
    "### Exercise 17:\n",
    "Create a multiline string representing a poem and store it in a variable `poem`.\n",
    "\n",
    "```python\n",
    "# Exercise 17\n",
    "```\n",
    "\n",
    "---\n",
    "\n",
    "### Exercise 18:\n",
    "Write a string to a file named `\"output.txt\"`.\n",
    "\n",
    "```python\n",
    "# Exercise 18\n",
    "```\n",
    "\n",
    "---\n",
    "\n",
    "### Exercise 19:\n",
    "Read the contents of a file named `\"data.txt\"` and print it line by line.\n",
    "\n",
    "```python\n",
    "# Exercise 19\n",
    "```\n",
    "\n",
    "---\n",
    "\n",
    "### Exercise 20:\n",
    "Check if a file `\"example.txt\"` exists before opening it.\n",
    "\n",
    "```python\n",
    "# Exercise 20\n",
    "```\n",
    "\n",
    "---\n",
    "\n",
    "### Exercise 21:\n",
    "Append a new line `\"This is a new line\"` to an existing file `\"notes.txt\"`.\n",
    "\n",
    "```python\n",
    "# Exercise 21\n",
    "```\n",
    "\n",
    "---\n",
    "\n",
    "### Exercise 22:\n",
    "Read the contents of a file `\"log.txt\"` and store each line in a list `log_lines`.\n",
    "\n",
    "```python\n",
    "# Exercise 22\n",
    "```\n",
    "\n",
    "---\n",
    "\n",
    "### Exercise 23:\n",
    "Create a new file `\"report.txt\"` and write the string `\"Data analysis report\"` to it.\n",
    "\n",
    "```python\n",
    "# Exercise 23\n",
    "```\n",
    "\n",
    "---\n",
    "\n",
    "### Exercise 24:\n",
    "Replace the word `\"error\"` with `\"issue\"` in a file `\"log.txt\"`.\n",
    "\n",
    "```python\n",
    "# Exercise 24\n",
    "```\n",
    "\n",
    "---\n",
    "\n",
    "### Exercise 25:\n",
    "Count the number of words in a text file `\"document.txt\"`.\n",
    "\n",
    "```python\n",
    "# Exercise 25\n",
    "```\n",
    "\n",
    "---\n",
    "\n",
    "### Exercise 26:\n",
    "Write a Python script that reads a file `\"essay.txt\"` and prints the total number of lines, words, and characters.\n",
    "\n",
    "```python\n",
    "# Exercise 26\n",
    "```\n",
    "\n",
    "---\n",
    "\n",
    "### Exercise 27:\n",
    "Copy the contents of one file `\"source.txt\"` to another file `\"destination.txt\"`.\n",
    "\n",
    "```python\n",
    "# Exercise 27\n",
    "```\n",
    "\n",
    "---\n",
    "\n",
    "### Exercise 28:\n",
    "Write a Python function that takes a filename as input and returns the number of lines in the file.\n",
    "\n",
    "```python\n",
    "# Exercise 28\n",
    "```\n",
    "\n",
    "---\n",
    "\n",
    "### Exercise 29:\n",
    "Extract all the words from a text file `\"article.txt\"` that contain more than 5 characters.\n",
    "\n",
    "```python\n",
    "# Exercise 29\n",
    "```\n",
    "\n",
    "---\n",
    "\n",
    "### Exercise 30:\n",
    "Convert the contents of a file `\"notes.txt\"` to uppercase and save the result in another file `\"uppercase_notes.txt\"`.\n",
    "\n",
    "```python\n",
    "# Exercise 30\n",
    "```\n",
    "\n",
    "---\n",
    "\n",
    "### Exercise 31:\n",
    "Write a Python script that reads a file and removes all empty lines.\n",
    "\n",
    "```python\n",
    "# Exercise 31\n",
    "```\n",
    "\n",
    "---\n",
    "\n",
    "### Exercise 32:\n",
    "Open a file `\"config.txt\"` in both read and write mode.\n",
    "\n",
    "```python\n",
    "# Exercise 32\n",
    "```\n",
    "\n",
    "---\n",
    "\n",
    "### Exercise 33:\n",
    "Write a Python function that reads a file and prints the longest line in the file.\n",
    "\n",
    "```python\n",
    "# Exercise 33\n",
    "```\n",
    "\n",
    "---\n",
    "\n",
    "### Exercise 34:\n",
    "Write a Python script to count the frequency of each letter in a text file `\"message.txt\"`.\n",
    "\n",
    "```python\n",
    "# Exercise 34\n",
    "```\n",
    "\n",
    "---\n",
    "\n",
    "### Exercise 35:\n",
    "Write a Python script that reads a file and prints the total number of characters, excluding spaces.\n",
    "\n",
    "```python\n",
    "# Exercise 35\n",
    "```\n",
    "\n",
    "---\n",
    "\n",
    "### Exercise 36:\n",
    "Create a Python script to check whether a file is empty or not.\n",
    "\n",
    "```python\n",
    "# Exercise 36\n",
    "```\n",
    "\n",
    "---\n",
    "\n",
    "### Exercise 37:\n",
    "Write a Python function that reads a file and removes all punctuation marks from the text.\n",
    "\n",
    "```python\n",
    "# Exercise 37\n",
    "```\n",
    "\n",
    "---\n",
    "\n",
    "### Exercise 38:\n",
    "Create a Python function that writes a list of strings to a file, each string on a new line.\n",
    "\n",
    "```python\n",
    "# Exercise 38\n",
    "```\n",
    "\n",
    "---\n",
    "\n",
    "### Exercise 39:\n",
    "Write a Python script to count the number of lines that start with a specific letter (e.g., \"A\") in a text file.\n",
    "\n",
    "```python\n",
    "# Exercise 39\n",
    "```\n",
    "\n",
    "---\n",
    "\n",
    "### Exercise 40:\n",
    "Write a Python function that takes a string as input and writes it to a file `\"output.txt\"` in reverse order.\n",
    "\n",
    "```python\n",
    "# Exercise 40\n",
    "```\n",
    "\n",
    "---\n",
    "\n",
    "### Exercise 41:\n",
    "Write a Python script that reads a file and prints all the lines that contain the word `\"Python\"`.\n",
    "\n",
    "```python\n",
    "# Exercise 41\n",
    "```\n",
    "\n",
    "---\n",
    "\n",
    "### Exercise 42:\n",
    "Write a Python script that opens a file and removes all numeric digits from the file's content.\n",
    "\n",
    "```python\n",
    "# Exercise 42\n",
    "```\n",
    "\n",
    "---\n",
    "\n",
    "### Exercise 43:\n",
    "Write a Python script to find the most frequent word in a text file `\"book.txt\"`.\n",
    "\n",
    "```python\n",
    "# Exercise 43\n",
    "```\n",
    "\n",
    "---\n",
    "\n",
    "### Exercise 44:\n",
    "Write a Python script that reads a file and prints all the lines that contain exactly 5 words.\n",
    "\n",
    "```python\n",
    "# Exercise 44\n",
    "```\n",
    "\n",
    "---\n",
    "\n",
    "### Exercise 45:\n",
    "Write a Python script to read a file and print the first and last line of the file.\n",
    "\n",
    "```python\n",
    "# Exercise 45\n",
    "```\n",
    "\n",
    "---\n",
    "\n",
    "### Exercise 46:\n",
    "Write a Python script that checks if a file `\"students.txt\"` is writable.\n",
    "\n",
    "```python\n",
    "# Exercise 46\n",
    "```\n",
    "\n",
    "---\n",
    "\n",
    "### Exercise 47:\n",
    "Create a Python function that opens a file and returns the number of unique words in the file.\n",
    "\n",
    "```python\n",
    "# Exercise 47\n",
    "```\n",
    "\n",
    "---\n",
    "\n",
    "### Exercise 48:\n",
    "Write a Python script that reads a file and prints all lines in reverse order.\n",
    "\n",
    "```python\n",
    "# Exercise 48\n",
    "```\n",
    "\n",
    "---\n",
    "\n",
    "### Exercise 49:\n",
    "Write a Python function that reads a file and returns the most common letter in the text.\n",
    "\n",
    "```python\n",
    "# Exercise 49\n",
    "```\n",
    "\n",
    "---\n",
    "\n",
    "### Exercise 50:\n",
    "Write a Python script that reads a file and replaces every occurrence of `\"Python\"` with `\"Java\"`.\n",
    "\n",
    "```python\n",
    "# Exercise 50\n",
    "```\n",
    "\n",
    "---\n",
    "\n"
   ]
  },
  {
   "cell_type": "markdown",
   "id": "507ae3c5",
   "metadata": {},
   "source": [
    "# EXERCISE 1"
   ]
  },
  {
   "cell_type": "code",
   "execution_count": 1,
   "id": "661ee5e3",
   "metadata": {},
   "outputs": [
    {
     "name": "stdout",
     "output_type": "stream",
     "text": [
      "Python is amazing!\n"
     ]
    }
   ],
   "source": [
    "text = \"Python is amazing!\"\n",
    "print(text)"
   ]
  },
  {
   "cell_type": "markdown",
   "id": "dcffd67e",
   "metadata": {},
   "source": [
    "# EXERCISE 2"
   ]
  },
  {
   "cell_type": "code",
   "execution_count": 2,
   "id": "b5fc2612",
   "metadata": {},
   "outputs": [
    {
     "name": "stdout",
     "output_type": "stream",
     "text": [
      "13\n"
     ]
    }
   ],
   "source": [
    "length  = \"Hello, World!\"\n",
    "print(len(length))"
   ]
  },
  {
   "cell_type": "markdown",
   "id": "a20ad107",
   "metadata": {},
   "source": [
    "# EXERCISE 3"
   ]
  },
  {
   "cell_type": "code",
   "execution_count": 3,
   "id": "0d799d9b",
   "metadata": {},
   "outputs": [
    {
     "name": "stdout",
     "output_type": "stream",
     "text": [
      "PYTHON PROGRAMMING\n"
     ]
    }
   ],
   "source": [
    "upper_text = \"python programming\".upper()\n",
    "print(upper_text)"
   ]
  },
  {
   "cell_type": "markdown",
   "id": "9ae627f8",
   "metadata": {},
   "source": [
    "# EXERCISE 4"
   ]
  },
  {
   "cell_type": "code",
   "execution_count": 4,
   "id": "210e65ba",
   "metadata": {},
   "outputs": [
    {
     "name": "stdout",
     "output_type": "stream",
     "text": [
      "Artif\n"
     ]
    }
   ],
   "source": [
    "text = \"Artificial Intelligence\"\n",
    "first_five = text[:5]\n",
    "print(first_five)"
   ]
  },
  {
   "cell_type": "markdown",
   "id": "59f09d79",
   "metadata": {},
   "source": [
    "# EXERCISE 5"
   ]
  },
  {
   "cell_type": "code",
   "execution_count": 5,
   "id": "70296ab2",
   "metadata": {},
   "outputs": [
    {
     "name": "stdout",
     "output_type": "stream",
     "text": [
      "Hello World\n"
     ]
    }
   ],
   "source": [
    "str1 = \"Hello\"\n",
    "str2 = \"World\"\n",
    "result = str1 + \" \" + str2\n",
    "print(result)"
   ]
  },
  {
   "cell_type": "markdown",
   "id": "c554851e",
   "metadata": {},
   "source": [
    "# EXERCISE 6"
   ]
  },
  {
   "cell_type": "code",
   "execution_count": 6,
   "id": "e4ba4272",
   "metadata": {},
   "outputs": [
    {
     "name": "stdout",
     "output_type": "stream",
     "text": [
      "The quick brown cat jumps over the lazy cat.\n"
     ]
    }
   ],
   "source": [
    "sentence = \"The quick brown dog jumps over the lazy dog.\"\n",
    "new_sentence = sentence.replace(\"dog\", \"cat\")\n",
    "print(new_sentence)"
   ]
  },
  {
   "cell_type": "markdown",
   "id": "e35cb121",
   "metadata": {},
   "source": [
    "# EXERCISE 7"
   ]
  },
  {
   "cell_type": "code",
   "execution_count": 8,
   "id": "bed0f542",
   "metadata": {},
   "outputs": [
    {
     "name": "stdout",
     "output_type": "stream",
     "text": [
      "['apple', 'banana', 'orange']\n"
     ]
    }
   ],
   "source": [
    "fruits = \"apple,banana,orange\"\n",
    "fruits_list = fruits.split(\",\")\n",
    "print(fruits_list)"
   ]
  },
  {
   "cell_type": "markdown",
   "id": "2f97910d",
   "metadata": {},
   "source": [
    "# EXERCISE 8"
   ]
  },
  {
   "cell_type": "code",
   "execution_count": 9,
   "id": "4e2d78fb",
   "metadata": {},
   "outputs": [
    {
     "name": "stdout",
     "output_type": "stream",
     "text": [
      "My name is Alice and I am 25 years old.\n"
     ]
    }
   ],
   "source": [
    "name = \"Alice\"\n",
    "age = 25\n",
    "formatted = f\"My name is {name} and I am {age} years old.\"\n",
    "print(formatted) "
   ]
  },
  {
   "cell_type": "markdown",
   "id": "828053f9",
   "metadata": {},
   "source": [
    "# EXERCISE 9"
   ]
  },
  {
   "cell_type": "code",
   "execution_count": 11,
   "id": "1b91aef7",
   "metadata": {},
   "outputs": [
    {
     "name": "stdout",
     "output_type": "stream",
     "text": [
      "True\n"
     ]
    }
   ],
   "source": [
    "y = \"I love python programming\"\n",
    "z = \"python\" in y\n",
    "print(z)"
   ]
  },
  {
   "cell_type": "markdown",
   "id": "fe2a001b",
   "metadata": {},
   "source": [
    "# EXERCISE 10"
   ]
  },
  {
   "cell_type": "code",
   "execution_count": 13,
   "id": "e6ee5db0",
   "metadata": {},
   "outputs": [
    {
     "name": "stdout",
     "output_type": "stream",
     "text": [
      "4\n"
     ]
    }
   ],
   "source": [
    "x = \"Elephant is an elegant animal\"\n",
    "count = x.lower().count(\"e\")\n",
    "print(count)"
   ]
  },
  {
   "cell_type": "markdown",
   "id": "a52fde22",
   "metadata": {},
   "source": [
    "# EXERCISE 11"
   ]
  },
  {
   "cell_type": "code",
   "execution_count": 14,
   "id": "80ef7884",
   "metadata": {},
   "outputs": [
    {
     "name": "stdout",
     "output_type": "stream",
     "text": [
      "Data Science\n"
     ]
    }
   ],
   "source": [
    "x = \" Data Science \"\n",
    "y = x.strip()\n",
    "print(y)"
   ]
  },
  {
   "cell_type": "markdown",
   "id": "0db6a7fe",
   "metadata": {},
   "source": [
    "# EXERCISE 12"
   ]
  },
  {
   "cell_type": "code",
   "execution_count": 15,
   "id": "dd1e4173",
   "metadata": {},
   "outputs": [
    {
     "name": "stdout",
     "output_type": "stream",
     "text": [
      "100\n",
      "<class 'int'>\n"
     ]
    }
   ],
   "source": [
    "x = \"100\"\n",
    "y = int(x)\n",
    "print(y)\n",
    "print(type(y))"
   ]
  },
  {
   "cell_type": "markdown",
   "id": "55402681",
   "metadata": {},
   "source": [
    "# EXERCISE 13"
   ]
  },
  {
   "cell_type": "code",
   "execution_count": 16,
   "id": "8cb47bb5",
   "metadata": {},
   "outputs": [
    {
     "name": "stdout",
     "output_type": "stream",
     "text": [
      "pro\n"
     ]
    }
   ],
   "source": [
    "x = \"programming\"\n",
    "print(x[0:3])"
   ]
  },
  {
   "cell_type": "markdown",
   "id": "7cdc0d96",
   "metadata": {},
   "source": [
    "# EXERCISE 14"
   ]
  },
  {
   "cell_type": "code",
   "execution_count": 17,
   "id": "7cc2f7a0",
   "metadata": {},
   "outputs": [
    {
     "name": "stdout",
     "output_type": "stream",
     "text": [
      "True\n",
      "True\n"
     ]
    }
   ],
   "source": [
    "x = \"data\"\n",
    "y = x.startswith(\"da\")\n",
    "z = x.endswith(\"ta\")\n",
    "print(y)\n",
    "print(z) "
   ]
  },
  {
   "cell_type": "markdown",
   "id": "80947fbe",
   "metadata": {},
   "source": [
    "# EXERCISE 15"
   ]
  },
  {
   "cell_type": "code",
   "execution_count": 18,
   "id": "0fd08fcd",
   "metadata": {},
   "outputs": [
    {
     "name": "stdout",
     "output_type": "stream",
     "text": [
      "gninrael enihcam\n"
     ]
    }
   ],
   "source": [
    "x = \"machine learning\"\n",
    "print(x[::-1])"
   ]
  },
  {
   "cell_type": "markdown",
   "id": "f74d5e8e",
   "metadata": {},
   "source": [
    "# EXERCISE 16"
   ]
  },
  {
   "cell_type": "code",
   "execution_count": 20,
   "id": "36540747",
   "metadata": {},
   "outputs": [
    {
     "name": "stdout",
     "output_type": "stream",
     "text": [
      "Machine Learning Is Fun\n"
     ]
    }
   ],
   "source": [
    "x = \"machine learning is fun\"\n",
    "print(x.title())"
   ]
  },
  {
   "cell_type": "markdown",
   "id": "0fe0c3b1",
   "metadata": {},
   "source": [
    "# EXERCISE 17"
   ]
  },
  {
   "cell_type": "code",
   "execution_count": 21,
   "id": "c472c88f",
   "metadata": {},
   "outputs": [
    {
     "name": "stdout",
     "output_type": "stream",
     "text": [
      "Roses are red,\n",
      "Violets are blue,\n",
      "And I am good\n"
     ]
    }
   ],
   "source": [
    "poem = \"\"\"Roses are red,\n",
    "Violets are blue,\n",
    "And I am good\"\"\"\n",
    "print(poem)"
   ]
  },
  {
   "cell_type": "markdown",
   "id": "711284d9",
   "metadata": {},
   "source": [
    "# EXERCISE 18"
   ]
  },
  {
   "cell_type": "code",
   "execution_count": 1,
   "id": "2b715b5e",
   "metadata": {},
   "outputs": [
    {
     "name": "stdout",
     "output_type": "stream",
     "text": [
      "I m learning python.\n"
     ]
    }
   ],
   "source": [
    "import os\n",
    "\n",
    "file_path = \"C:/Users/USER/Desktop/TekHer-Basics-Python/output.txt\"\n",
    "\n",
    "with open(\"output.txt\", \"w\") as file:\n",
    "    file.write(\"I m learning python.\")\n",
    "\n",
    "with open(\"output.txt\", \"r\") as file:\n",
    "    content = file.read()\n",
    "    print(content)"
   ]
  },
  {
   "cell_type": "markdown",
   "id": "09ba1f3c",
   "metadata": {},
   "source": [
    "# EXERCISE 19"
   ]
  },
  {
   "cell_type": "code",
   "execution_count": 30,
   "id": "ad3ece73",
   "metadata": {},
   "outputs": [
    {
     "name": "stdout",
     "output_type": "stream",
     "text": [
      "Name,Age,Score\n",
      "Alice,23,85\n",
      "Bob,30,90\n",
      "Charlie,25,88\n"
     ]
    }
   ],
   "source": [
    "with open(r\"C:\\Users\\USER\\Desktop\\TekHer-Basics-Python\\data.txt\", \"r\") as file:\n",
    "    for line in file:\n",
    "        print(line.strip())"
   ]
  },
  {
   "cell_type": "markdown",
   "id": "0b95decd",
   "metadata": {},
   "source": [
    "# EXERCISE 20"
   ]
  },
  {
   "cell_type": "code",
   "execution_count": 38,
   "id": "7f3904a7",
   "metadata": {},
   "outputs": [
    {
     "name": "stdout",
     "output_type": "stream",
     "text": [
      "This is an example text file used for demonstration.\n",
      "\n"
     ]
    }
   ],
   "source": [
    "import os\n",
    "\n",
    "file_path = \"C:/Users/USER/Desktop/TekHer-Basics-Python/example.txt\"\n",
    "\n",
    "if os.path.exists(file_path):\n",
    "    with open(file_path, \"r\") as file:\n",
    "        x = file.read()\n",
    "        print(x)\n",
    "else:\n",
    "    print(\"The file does not exist.\")"
   ]
  },
  {
   "cell_type": "markdown",
   "id": "526b2521",
   "metadata": {},
   "source": [
    "# EXERCISE 21"
   ]
  },
  {
   "cell_type": "code",
   "execution_count": 39,
   "id": "67472e63",
   "metadata": {},
   "outputs": [],
   "source": [
    "with open(\"notes.txt\", \"a\") as file:\n",
    "    file.write(\"\\nThis is a new line\")"
   ]
  },
  {
   "cell_type": "markdown",
   "id": "3417997c",
   "metadata": {},
   "source": [
    "# EXERCISE 22"
   ]
  },
  {
   "cell_type": "code",
   "execution_count": 43,
   "id": "f856aab3",
   "metadata": {},
   "outputs": [
    {
     "name": "stdout",
     "output_type": "stream",
     "text": [
      "['2024-05-20 10:00:00 INFO Program started\\n', '2024-05-20 10:05:00 ERROR Invalid input\\n']\n"
     ]
    }
   ],
   "source": [
    "import os\n",
    "\n",
    "file_path = \"C:/Users/USER/Desktop/TekHer-Basics-Python/log.txt\"\n",
    "\n",
    "if os.path.exists(file_path):\n",
    "    with open(file_path, \"r\") as file:\n",
    "        log_lines = file.readlines()\n",
    "        print(log_lines)\n",
    "else:\n",
    "    print(f\"Error: File not found at '{file_path}'\")"
   ]
  },
  {
   "cell_type": "markdown",
   "id": "cb5b96ba",
   "metadata": {},
   "source": [
    "# EXERCISE 23"
   ]
  },
  {
   "cell_type": "code",
   "execution_count": 2,
   "id": "6a53e0f1",
   "metadata": {},
   "outputs": [
    {
     "name": "stdout",
     "output_type": "stream",
     "text": [
      "Data analysis report\n"
     ]
    }
   ],
   "source": [
    "file_path = \"C:/Users/USER/Desktop/TekHer-Basics-Python/report.txt\"\n",
    "with open(\"report.txt\", \"w\") as file:\n",
    "    file.write(\"Data analysis report\")\n",
    "\n",
    "with open(\"report.txt\", \"r\") as file:\n",
    "    content = file.read()\n",
    "    print(content)"
   ]
  },
  {
   "cell_type": "markdown",
   "id": "af2d3990",
   "metadata": {},
   "source": [
    "# EXERCISE 24"
   ]
  },
  {
   "cell_type": "code",
   "execution_count": 49,
   "id": "4e7174db",
   "metadata": {},
   "outputs": [
    {
     "name": "stdout",
     "output_type": "stream",
     "text": [
      "2024-05-20 10:00:00 INFO Program started\n",
      "2024-05-20 10:05:00 ERROR Invalid input\n",
      "\n"
     ]
    }
   ],
   "source": [
    "file_path = \"C:/Users/USER/Desktop/TekHer-Basics-Python/log.txt\"\n",
    "\n",
    "with open(file_path, \"r\") as file:\n",
    "    content = file.read()\n",
    "\n",
    "mod_content = content.replace(\"error\", \"issue\")\n",
    "print(mod_content)"
   ]
  },
  {
   "cell_type": "markdown",
   "id": "156e4bb6",
   "metadata": {},
   "source": [
    "# EXERCISE 25"
   ]
  },
  {
   "cell_type": "code",
   "execution_count": 52,
   "id": "29929981",
   "metadata": {},
   "outputs": [
    {
     "name": "stdout",
     "output_type": "stream",
     "text": [
      "12\n"
     ]
    }
   ],
   "source": [
    "file_path = r\"C:\\Users\\USER\\Desktop\\TekHer-Basics-Python\\document.txt\"\n",
    "\n",
    "with open(file_path, \"r\") as file:\n",
    "    text = file.read()\n",
    "\n",
    "count = len(text.split())\n",
    "print(count)"
   ]
  },
  {
   "cell_type": "markdown",
   "id": "9ff18691",
   "metadata": {},
   "source": [
    "# EXERCISE 26"
   ]
  },
  {
   "cell_type": "code",
   "execution_count": 55,
   "id": "97dbb3b7",
   "metadata": {},
   "outputs": [
    {
     "name": "stdout",
     "output_type": "stream",
     "text": [
      "Lines: 1\n",
      "Words: 10\n",
      "Characters: 66\n"
     ]
    }
   ],
   "source": [
    "file_path = r\"C:\\Users\\USER\\Desktop\\TekHer-Basics-Python\\essay.txt\"\n",
    "\n",
    "with open(file_path, \"r\") as file:\n",
    "    content = file.read()\n",
    "\n",
    "lines = content.splitlines()\n",
    "words = content.split()\n",
    "chars = len(content)\n",
    "\n",
    "print(f\"Lines: {len(lines)}\")\n",
    "print(f\"Words: {len(words)}\")\n",
    "print(f\"Characters: {chars}\")"
   ]
  },
  {
   "cell_type": "markdown",
   "id": "5273c477",
   "metadata": {},
   "source": [
    "# EXERCISE 27"
   ]
  },
  {
   "cell_type": "code",
   "execution_count": null,
   "id": "8f3c1dcf",
   "metadata": {},
   "outputs": [],
   "source": [
    "with open(\"source.txt\", \"r\") as source:\n",
    "    with open(\"destination.txt\", \"w\") as dest:\n",
    "        dest.write(source.read())"
   ]
  },
  {
   "cell_type": "markdown",
   "id": "5707bf04",
   "metadata": {},
   "source": [
    "# EXERCISE 28"
   ]
  },
  {
   "cell_type": "code",
   "execution_count": 56,
   "id": "45f330d2",
   "metadata": {},
   "outputs": [],
   "source": [
    "def count_lines(filename):\n",
    "    with open(filename, \"r\") as file:\n",
    "        return len(file.readlines())"
   ]
  },
  {
   "cell_type": "markdown",
   "id": "9b50ce6c",
   "metadata": {},
   "source": [
    "# EXERCISE 29"
   ]
  },
  {
   "cell_type": "code",
   "execution_count": 58,
   "id": "33c0d396",
   "metadata": {},
   "outputs": [
    {
     "name": "stdout",
     "output_type": "stream",
     "text": [
      "['sample', 'article', 'applications.', 'multiple', 'lines.']\n"
     ]
    }
   ],
   "source": [
    "file_path = r\"C:\\Users\\USER\\Desktop\\TekHer-Basics-Python\\article.txt\"\n",
    "\n",
    "with open(file_path, \"r\") as file:\n",
    "    text = file.read()\n",
    "\n",
    "words = [w for w in text.split() if len(w) > 5]\n",
    "print(words)"
   ]
  },
  {
   "cell_type": "markdown",
   "id": "0e23ea8f",
   "metadata": {},
   "source": [
    "# EXERCISE 30"
   ]
  },
  {
   "cell_type": "code",
   "execution_count": 59,
   "id": "db42c155",
   "metadata": {},
   "outputs": [],
   "source": [
    "with open(\"notes.txt\", \"r\") as input_file:\n",
    "    with open(\"uppercase_notes.txt\", \"w\") as output_file:\n",
    "        output_file.write(input_file.read().upper())"
   ]
  },
  {
   "cell_type": "markdown",
   "id": "f0b8bc62",
   "metadata": {},
   "source": [
    "# EXERCISE 31"
   ]
  },
  {
   "cell_type": "code",
   "execution_count": 7,
   "id": "027c948a",
   "metadata": {},
   "outputs": [],
   "source": [
    "# Create a test input file\n",
    "with open(r'C:\\Users\\USER\\Desktop\\TekHer-Basics-Python\\input.txt', 'w') as f:\n",
    "    f.write(\"Line 1\\n\\nLine 2\\n   \\nLine 3\\n\")\n",
    "\n",
    "# Define function\n",
    "def remove_empty_lines(input_file, output_file):\n",
    "    with open(input_file, 'r') as infile:\n",
    "        lines = infile.readlines()\n",
    "    \n",
    "    non_empty_lines = [line for line in lines if line.strip() != '']\n",
    "    \n",
    "    with open(output_file, 'w') as outfile:\n",
    "        outfile.writelines(non_empty_lines)\n",
    "\n",
    "# Use raw strings for paths\n",
    "input_path = r'C:\\Users\\USER\\Desktop\\TekHer-Basics-Python\\input.txt'\n",
    "output_path = r'C:\\Users\\USER\\Desktop\\TekHer-Basics-Python\\output.txt'\n",
    "remove_empty_lines(input_path, output_path)"
   ]
  },
  {
   "cell_type": "markdown",
   "id": "17cd47b2",
   "metadata": {},
   "source": [
    "# EXERCISE 32"
   ]
  },
  {
   "cell_type": "code",
   "execution_count": null,
   "id": "56589f21",
   "metadata": {},
   "outputs": [],
   "source": [
    "with open(\"config.txt\", \"r+\") as file:\n",
    "    content = file.read()\n",
    "    file.seek(0)\n",
    "    file.write(\"Updated config\\n\")"
   ]
  },
  {
   "cell_type": "markdown",
   "id": "0c8b23bf",
   "metadata": {},
   "source": [
    "# EXERCISE 33"
   ]
  },
  {
   "cell_type": "code",
   "execution_count": 62,
   "id": "f5a39ace",
   "metadata": {},
   "outputs": [],
   "source": [
    "def print_longest_line(filename):\n",
    "    with open(filename, \"r\") as file:\n",
    "        longest = max(file, key=len)\n",
    "    print(longest.rstrip())"
   ]
  },
  {
   "cell_type": "markdown",
   "id": "d6f16424",
   "metadata": {},
   "source": [
    "# EXERCISE 34"
   ]
  },
  {
   "cell_type": "code",
   "execution_count": 12,
   "id": "c01f9755",
   "metadata": {},
   "outputs": [
    {
     "name": "stdout",
     "output_type": "stream",
     "text": [
      "Counter({'e': 6, 's': 6, 't': 5, 'l': 4, 'o': 3, 'a': 3, 'h': 2, 'i': 2, 'm': 2, 'p': 1, 'g': 1, 'c': 1, 'u': 1, 'n': 1, 'r': 1})\n"
     ]
    }
   ],
   "source": [
    "#Write a Python script to count the frequency of each letter in a text file \"message.txt\".\n",
    "from collections import Counter \n",
    "\n",
    "# Step 1: Create the file with some content\n",
    "with open(r\"C:\\Users\\USER\\Desktop\\TekHer-Basics-Python\\message.txt\", \"w\") as file:\n",
    "    file.write(\"Hello, this is a sample message to count letters!\")\n",
    "\n",
    "# Step 2: Read the file and count letter frequencies\n",
    "with open(r\"C:\\Users\\USER\\Desktop\\TekHer-Basics-Python\\message.txt\", \"r\") as file:\n",
    "    text = file.read().lower()\n",
    "    letter_counts = Counter(c for c in text if c.isalpha())  # Count only letters\n",
    "\n",
    "# Step 3: Print the result\n",
    "print(letter_counts)"
   ]
  },
  {
   "cell_type": "markdown",
   "id": "c6d239e0",
   "metadata": {},
   "source": [
    "# EXERCISE 35"
   ]
  },
  {
   "cell_type": "code",
   "execution_count": 65,
   "id": "cfb0d655",
   "metadata": {},
   "outputs": [
    {
     "name": "stdout",
     "output_type": "stream",
     "text": [
      "49\n"
     ]
    }
   ],
   "source": [
    "file_path = r\"C:\\Users\\USER\\Desktop\\TekHer-Basics-Python\\input.txt\"\n",
    "\n",
    "with open(file_path, \"w\") as f:\n",
    "    f.write(\"This is a sample input file.\\nIt contains multiple lines.\\n\")\n",
    " \n",
    "with open(file_path, \"r\") as file:\n",
    "    content = file.read()\n",
    "\n",
    "count = len(content.replace(\" \", \"\"))\n",
    "print(count)"
   ]
  },
  {
   "cell_type": "markdown",
   "id": "23ebd8a8",
   "metadata": {},
   "source": [
    "# EXERCISE 36"
   ]
  },
  {
   "cell_type": "code",
   "execution_count": 67,
   "id": "22d296b9",
   "metadata": {},
   "outputs": [
    {
     "name": "stdout",
     "output_type": "stream",
     "text": [
      "False\n"
     ]
    }
   ],
   "source": [
    "import os\n",
    "\n",
    "file_path = r\"C:\\Users\\USER\\Desktop\\TekHer-Basics-Python\\input.txt\"\n",
    "\n",
    "def is_file_empty(filename):\n",
    "    return os.path.getsize(filename) == 0\n",
    "\n",
    "print(is_file_empty(file_path))"
   ]
  },
  {
   "cell_type": "markdown",
   "id": "b34d1b68",
   "metadata": {},
   "source": [
    "# EXERCISE 37"
   ]
  },
  {
   "cell_type": "code",
   "execution_count": null,
   "id": "f2924f81",
   "metadata": {},
   "outputs": [],
   "source": [
    "import os\n",
    "def is_empty(filename):\n",
    "    return os.path.getsize(filename) == 0"
   ]
  },
  {
   "cell_type": "markdown",
   "id": "83d283c0",
   "metadata": {},
   "source": [
    "# EXERCISE 38"
   ]
  },
  {
   "cell_type": "code",
   "execution_count": null,
   "id": "9113dfb6",
   "metadata": {},
   "outputs": [],
   "source": [
    "def write_lines(filename, lines):\n",
    "    with open(filename, \"w\") as file:\n",
    "        for line in lines:\n",
    "            file.write(line + \"\\n\")"
   ]
  },
  {
   "cell_type": "markdown",
   "id": "57bed0d7",
   "metadata": {},
   "source": [
    "# EXERCISE 39"
   ]
  },
  {
   "cell_type": "code",
   "execution_count": 69,
   "id": "ca7470d0",
   "metadata": {},
   "outputs": [
    {
     "name": "stdout",
     "output_type": "stream",
     "text": [
      "0\n"
     ]
    }
   ],
   "source": [
    "letter = \"A\"\n",
    "count = 0\n",
    "file_path = r\"C:\\Users\\USER\\Desktop\\TekHer-Basics-Python\\input.txt\"\n",
    "\n",
    "with open(file_path, \"r\") as file:\n",
    "    for line in file:\n",
    "        if line.startswith(letter):\n",
    "            count += 1\n",
    "\n",
    "print(count)"
   ]
  },
  {
   "cell_type": "markdown",
   "id": "d4795bf4",
   "metadata": {},
   "source": [
    "# EXERCISE 40"
   ]
  },
  {
   "cell_type": "code",
   "execution_count": null,
   "id": "61193982",
   "metadata": {},
   "outputs": [],
   "source": [
    "def write_reverse(text):\n",
    "    with open(\"output.txt\", \"w\") as file:\n",
    "        file.write(text[::-1])"
   ]
  },
  {
   "cell_type": "markdown",
   "id": "ca6adf36",
   "metadata": {},
   "source": [
    "# EXERCISE 41"
   ]
  },
  {
   "cell_type": "code",
   "execution_count": 73,
   "id": "3eade794",
   "metadata": {},
   "outputs": [],
   "source": [
    "file_path = r\"C:\\Users\\USER\\Desktop\\TekHer-Basics-Python\\input.txt\"\n",
    "\n",
    "with open(file_path, \"r\") as file:\n",
    "    for line in file:\n",
    "        if \"Python\" in line:\n",
    "            print(line.rstrip())"
   ]
  },
  {
   "cell_type": "markdown",
   "id": "d42eb55d",
   "metadata": {},
   "source": [
    "# EXERCISE 42"
   ]
  },
  {
   "cell_type": "code",
   "execution_count": null,
   "id": "b2445a6f",
   "metadata": {},
   "outputs": [],
   "source": [
    "import re\n",
    "\n",
    "with open(\"input.txt\", \"r\") as file:\n",
    "    content = file.read()\n",
    "\n",
    "content_no_digits = re.sub(r\"\\d\", \"\", content)\n",
    "\n",
    "with open(\"input.txt\", \"w\") as file:\n",
    "    file.write(content_no_digits)"
   ]
  },
  {
   "cell_type": "markdown",
   "id": "a22e1eeb",
   "metadata": {},
   "source": [
    "# EXERCISE 43"
   ]
  },
  {
   "cell_type": "code",
   "execution_count": 76,
   "id": "12f2486a",
   "metadata": {},
   "outputs": [
    {
     "name": "stdout",
     "output_type": "stream",
     "text": [
      "Most frequent word: a (3 times)\n"
     ]
    }
   ],
   "source": [
    "from collections import Counter\n",
    "\n",
    "file_path = r\"C:\\Users\\USER\\Desktop\\TekHer-Basics-Python\\book.txt\"\n",
    "\n",
    "with open(file_path, \"r\") as file:\n",
    "    words = file.read().lower().split()\n",
    "    word_counts = Counter(words)\n",
    "    most_common = word_counts.most_common(1)[0]\n",
    "    print(f\"Most frequent word: {most_common[0]} ({most_common[1]} times)\")"
   ]
  },
  {
   "cell_type": "markdown",
   "id": "e00cbd90",
   "metadata": {},
   "source": [
    "# EXERCISE 44"
   ]
  },
  {
   "cell_type": "code",
   "execution_count": null,
   "id": "1b32716d",
   "metadata": {},
   "outputs": [],
   "source": [
    "with open(\"file.txt\", \"r\") as file:\n",
    "    for line in file:\n",
    "        if len(line.strip().split()) == 5:\n",
    "            print(line.strip())"
   ]
  },
  {
   "cell_type": "markdown",
   "id": "3dbb07c9",
   "metadata": {},
   "source": [
    "# EXERCISE 45"
   ]
  },
  {
   "cell_type": "code",
   "execution_count": 13,
   "id": "bcad8b52",
   "metadata": {},
   "outputs": [
    {
     "name": "stdout",
     "output_type": "stream",
     "text": [
      "First line:\n",
      "Line 1: This is the first line\n",
      "Last line:\n",
      "Line 5: This is the last line\n"
     ]
    }
   ],
   "source": [
    "# Create a sample file with multiple lines\n",
    "sample_text = \"\"\"Line 1: This is the first line\n",
    "Line 2: This is the second line\n",
    "Line 3: This is the third line\n",
    "Line 4: This is the fourth line\n",
    "Line 5: This is the last line\"\"\"\n",
    "\n",
    "# Write sample text to file\n",
    "with open('sample.txt', 'w') as file:\n",
    "    file.write(sample_text)\n",
    "\n",
    "# Read and print first and last lines\n",
    "with open('sample.txt', 'r') as file:\n",
    "    # Read all lines into a list\n",
    "    lines = file.readlines()\n",
    "    \n",
    "    if lines:  # Check if file is not empty\n",
    "        print(\"First line:\")\n",
    "        print(lines[0].strip())\n",
    "        print(\"\\\n",
    "Last line:\")\n",
    "        print(lines[-1].strip())\n",
    "    else:\n",
    "        print(\"File is empty\")"
   ]
  },
  {
   "cell_type": "markdown",
   "id": "d4797c2c",
   "metadata": {},
   "source": [
    "# EXERCISE 46"
   ]
  },
  {
   "cell_type": "code",
   "execution_count": 14,
   "id": "d58d1e39",
   "metadata": {},
   "outputs": [
    {
     "name": "stdout",
     "output_type": "stream",
     "text": [
      "The file 'C:\\Users\\USER\\Desktop\\TekHer-Basics-Python\\students.txt' is writable.\n"
     ]
    }
   ],
   "source": [
    "import os\n",
    "\n",
    "file_path = r\"C:\\Users\\USER\\Desktop\\TekHer-Basics-Python\\students.txt\"\n",
    "\n",
    "# Check if the file exists\n",
    "if os.path.exists(file_path):\n",
    "    # Check if the file is writable\n",
    "    if os.access(file_path, os.W_OK):\n",
    "        print(f\"The file '{file_path}' is writable.\")\n",
    "    else:\n",
    "        print(f\"The file '{file_path}' is not writable.\")\n",
    "else:\n",
    "    print(f\"The file '{file_path}' does not exist.\")\n"
   ]
  },
  {
   "cell_type": "markdown",
   "id": "be719bd6",
   "metadata": {},
   "source": [
    "# EXERCISE 47"
   ]
  },
  {
   "cell_type": "code",
   "execution_count": null,
   "id": "3b5d95a5",
   "metadata": {},
   "outputs": [],
   "source": [
    "import re\n",
    "\n",
    "def count_unique_words(file_path):\n",
    "    try:\n",
    "        with open(file_path, 'r', encoding='utf-8') as file:\n",
    "            text = file.read().lower()\n",
    "            # Use regular expressions to extract words\n",
    "            words = re.findall(r'\\b\\w+\\b', text)\n",
    "            unique_words = set(words)\n",
    "            return len(unique_words)\n",
    "    except FileNotFoundError:\n",
    "        print(f\"File '{file_path}' not found.\")\n",
    "        return 0\n",
    "    except Exception as e:\n",
    "        print(f\"An error occurred: {e}\")\n",
    "        return 0"
   ]
  },
  {
   "cell_type": "markdown",
   "id": "f1ad955a",
   "metadata": {},
   "source": [
    "# EXERCISE 48"
   ]
  },
  {
   "cell_type": "code",
   "execution_count": 15,
   "id": "43c7ce50",
   "metadata": {},
   "outputs": [],
   "source": [
    "def print_file_lines_in_reverse(file_path):\n",
    "    try:\n",
    "        with open(file_path, 'r', encoding='utf-8') as file:\n",
    "            lines = file.readlines()\n",
    "            for line in reversed(lines):\n",
    "                print(line.rstrip('\\n'))\n",
    "    except FileNotFoundError:\n",
    "        print(f\"File '{file_path}' not found.\")\n",
    "    except Exception as e:\n",
    "        print(f\"An error occurred: {e}\")"
   ]
  },
  {
   "cell_type": "markdown",
   "id": "a189aeed",
   "metadata": {},
   "source": [
    "# EXERCISE 49"
   ]
  },
  {
   "cell_type": "code",
   "execution_count": 16,
   "id": "216dad12",
   "metadata": {},
   "outputs": [],
   "source": [
    "import collections\n",
    "import string\n",
    "\n",
    "def most_common_letter(file_path):\n",
    "    try:\n",
    "        with open(file_path, 'r', encoding='utf-8') as file:\n",
    "            text = file.read().lower()\n",
    "            # Filter only alphabetic characters\n",
    "            letters = [char for char in text if char in string.ascii_lowercase]\n",
    "            if not letters:\n",
    "                print(\"No alphabetic characters found in the file.\")\n",
    "                return None, 0\n",
    "            letter_counts = collections.Counter(letters)\n",
    "            most_common = letter_counts.most_common(1)[0]\n",
    "            return most_common\n",
    "    except FileNotFoundError:\n",
    "        print(f\"File '{file_path}' not found.\")\n",
    "        return None, 0\n",
    "    except Exception as e:\n",
    "        print(f\"An error occurred: {e}\")\n",
    "        return None, 0"
   ]
  },
  {
   "cell_type": "markdown",
   "id": "5eb6d915",
   "metadata": {},
   "source": [
    "# EXERCISE 50"
   ]
  },
  {
   "cell_type": "code",
   "execution_count": 17,
   "id": "a884c578",
   "metadata": {},
   "outputs": [],
   "source": [
    "def replace_python_with_java(file_path):\n",
    "    try:\n",
    "        with open(file_path, 'r', encoding='utf-8') as file:\n",
    "            content = file.read()\n",
    "\n",
    "        updated_content = content.replace('Python', 'Java')\n",
    "\n",
    "        with open(file_path, 'w', encoding='utf-8') as file:\n",
    "            file.write(updated_content)\n",
    "\n",
    "        print(f\"All occurrences of 'Python' have been replaced with 'Java' in '{file_path}'.\")\n",
    "    except FileNotFoundError:\n",
    "        print(f\"File '{file_path}' not found.\")\n",
    "    except Exception as e:\n",
    "        print(f\"An error occurred: {e}\")"
   ]
  },
  {
   "cell_type": "code",
   "execution_count": null,
   "id": "dc9beea8",
   "metadata": {},
   "outputs": [],
   "source": []
  }
 ],
 "metadata": {
  "kernelspec": {
   "display_name": "Python 3 (ipykernel)",
   "language": "python",
   "name": "python3"
  },
  "language_info": {
   "codemirror_mode": {
    "name": "ipython",
    "version": 3
   },
   "file_extension": ".py",
   "mimetype": "text/x-python",
   "name": "python",
   "nbconvert_exporter": "python",
   "pygments_lexer": "ipython3",
   "version": "3.10.9"
  }
 },
 "nbformat": 4,
 "nbformat_minor": 5
}
