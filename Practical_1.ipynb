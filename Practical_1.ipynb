{
 "cells": [
  {
   "cell_type": "markdown",
   "id": "426486dd",
   "metadata": {},
   "source": [
    "# Practical_1: Variables and Assignments"
   ]
  },
  {
   "cell_type": "markdown",
   "id": "9fb19f0d",
   "metadata": {},
   "source": [
    "----\n",
    "\n",
    "### Exercise 1:\n",
    "Declare a variable `x` and assign it the value `10`.\n",
    "\n",
    "```python\n",
    "# Exercise 1\n",
    "```\n",
    "\n",
    "---\n",
    "\n",
    "### Exercise 2:\n",
    "Assign the value `True` to a variable called `is_valid`.\n",
    "\n",
    "```python\n",
    "# Exercise 2\n",
    "```\n",
    "\n",
    "---\n",
    "\n",
    "### Exercise 3:\n",
    "Create a string variable `name` with the value \"Python Programming\".\n",
    "\n",
    "```python\n",
    "# Exercise 3\n",
    "```\n",
    "\n",
    "---\n",
    "\n",
    "### Exercise 4:\n",
    "Assign the result of `5 + 3` to a variable `sum_result`.\n",
    "\n",
    "```python\n",
    "# Exercise 4\n",
    "```\n",
    "\n",
    "---\n",
    "\n",
    "### Exercise 5:\n",
    "Assign multiple variables in one line: `a = 5`, `b = 10`, `c = 15`.\n",
    "\n",
    "```python\n",
    "# Exercise 5\n",
    "```\n",
    "\n",
    "---\n",
    "\n",
    "### Exercise 6:\n",
    "Assign the value of one variable `x` to another variable `y`.\n",
    "\n",
    "```python\n",
    "# Exercise 6\n",
    "```\n",
    "\n",
    "---\n",
    "\n",
    "### Exercise 7:\n",
    "Assign a floating-point number `9.8` to a variable `gravity`.\n",
    "\n",
    "```python\n",
    "# Exercise 7\n",
    "```\n",
    "\n",
    "---\n",
    "\n",
    "### Exercise 8:\n",
    "Create a variable `country` and assign it the string value of your favorite country.\n",
    "\n",
    "```python\n",
    "# Exercise 8\n",
    "```\n",
    "\n",
    "---\n",
    "\n",
    "### Exercise 9:\n",
    "Change the value of variable `age` from `25` to `26` in two separate steps.\n",
    "\n",
    "```python\n",
    "# Exercise 9\n",
    "```\n",
    "\n",
    "---\n",
    "\n",
    "### Exercise 10:\n",
    "Use one variable to store the result of subtracting two numbers `20 - 7`.\n",
    "\n",
    "```python\n",
    "# Exercise 10\n",
    "```\n",
    "\n",
    "---\n",
    "\n",
    "### Exercise 11:\n",
    "Assign an integer value and a floating-point value to two different variables.\n",
    "\n",
    "```python\n",
    "# Exercise 11\n",
    "```\n",
    "\n",
    "---\n",
    "\n",
    "### Exercise 12:\n",
    "Assign a boolean value `False` to a variable `is_completed`.\n",
    "\n",
    "```python\n",
    "# Exercise 12\n",
    "```\n",
    "\n",
    "---\n",
    "\n",
    "### Exercise 13:\n",
    "Swap the values of two variables `x` and `y`.\n",
    "\n",
    "```python\n",
    "# Exercise 13\n",
    "```\n",
    "\n",
    "---\n",
    "\n",
    "### Exercise 14:\n",
    "Assign a complex number `3 + 4j` to a variable `complex_num`.\n",
    "\n",
    "```python\n",
    "# Exercise 14\n",
    "```\n",
    "\n",
    "---\n",
    "\n",
    "### Exercise 15:\n",
    "Reassign a variable from an integer to a string.\n",
    "\n",
    "```python\n",
    "# Exercise 15\n",
    "```\n",
    "\n",
    "---\n",
    "\n",
    "### Exercise 16:\n",
    "Create two variables `first_name` and `last_name`, and assign them your first and last names.\n",
    "\n",
    "```python\n",
    "# Exercise 16\n",
    "```\n",
    "\n",
    "---\n",
    "\n",
    "### Exercise 17:\n",
    "Create a variable `temperature` and assign it the value of `35.5`.\n",
    "\n",
    "```python\n",
    "# Exercise 17\n",
    "```\n",
    "\n",
    "---\n",
    "\n",
    "### Exercise 18:\n",
    "Assign the result of the multiplication of two numbers `8 * 6` to a variable `product`.\n",
    "\n",
    "```python\n",
    "# Exercise 18\n",
    "```\n",
    "\n",
    "---\n",
    "\n",
    "### Exercise 19:\n",
    "Assign a sentence of your choice to a variable `sentence`.\n",
    "\n",
    "```python\n",
    "# Exercise 19\n",
    "```\n",
    "\n",
    "---\n",
    "\n",
    "### Exercise 20:\n",
    "Use an assignment to convert a string `'50'` into an integer variable `int_value`.\n",
    "\n",
    "```python\n",
    "# Exercise 20\n",
    "```\n",
    "\n",
    "---\n",
    "\n",
    "### Exercise 21:\n",
    "Assign the result of dividing `144` by `12` to a variable `quotient`.\n",
    "\n",
    "```python\n",
    "# Exercise 21\n",
    "```\n",
    "\n",
    "---\n",
    "\n",
    "### Exercise 22:\n",
    "Assign the remainder of `47 divided by 5` to a variable `remainder`.\n",
    "\n",
    "```python\n",
    "# Exercise 22\n",
    "```\n",
    "\n",
    "---\n",
    "\n",
    "### Exercise 23:\n",
    "Create a variable `is_student` and assign it the value `True`.\n",
    "\n",
    "```python\n",
    "# Exercise 23\n",
    "```\n",
    "\n",
    "---\n",
    "\n",
    "### Exercise 24:\n",
    "Use a variable to store the result of a modulo operation: `45 % 4`.\n",
    "\n",
    "```python\n",
    "# Exercise 24\n",
    "```\n",
    "\n",
    "---\n",
    "\n",
    "### Exercise 25:\n",
    "Create a variable `pi` and assign it the value `3.14159`.\n",
    "\n",
    "```python\n",
    "# Exercise 25\n",
    "```\n",
    "\n",
    "---\n",
    "\n",
    "### Exercise 26:\n",
    "Create two variables `length` and `width`, assign them values, and calculate the area of a rectangle.\n",
    "\n",
    "```python\n",
    "# Exercise 26\n",
    "```\n",
    "\n",
    "---\n",
    "\n",
    "### Exercise 27:\n",
    "Assign a negative number to a variable `negative_value`.\n",
    "\n",
    "```python\n",
    "# Exercise 27\n",
    "```\n",
    "\n",
    "---\n",
    "\n",
    "### Exercise 28:\n",
    "Assign a string containing a special character (e.g., \"Hello, World!\") to a variable `greeting`.\n",
    "\n",
    "```python\n",
    "# Exercise 28\n",
    "```\n",
    "\n",
    "---\n",
    "\n",
    "### Exercise 29:\n",
    "Create a variable `population` and assign it a large integer value (in billions).\n",
    "\n",
    "```python\n",
    "# Exercise 29\n",
    "```\n",
    "\n",
    "---\n",
    "\n",
    "### Exercise 30:\n",
    "Use a variable to store the result of raising `2` to the power of `8`.\n",
    "\n",
    "```python\n",
    "# Exercise 30\n",
    "```\n",
    "\n",
    "---\n",
    "\n",
    "### Exercise 31:\n",
    "Assign a list of your favorite fruits to a variable `fruits`.\n",
    "\n",
    "```python\n",
    "# Exercise 31\n",
    "```\n",
    "\n",
    "---\n",
    "\n",
    "### Exercise 32:\n",
    "Assign a tuple of three numbers to a variable `coordinates`.\n",
    "\n",
    "```python\n",
    "# Exercise 32\n",
    "```\n",
    "\n",
    "---\n",
    "\n",
    "### Exercise 33:\n",
    "Assign a dictionary with keys `name` and `age` to a variable `person`.\n",
    "\n",
    "```python\n",
    "# Exercise 33\n",
    "```\n",
    "\n",
    "---\n",
    "\n",
    "### Exercise 34:\n",
    "Use variables to store the sum of two floating-point numbers.\n",
    "\n",
    "```python\n",
    "# Exercise 34\n",
    "```\n",
    "\n",
    "---\n",
    "\n",
    "### Exercise 35:\n",
    "Create a variable `is_sunny` and assign it the result of a comparison `10 > 5`.\n",
    "\n",
    "```python\n",
    "# Exercise 35\n",
    "```\n",
    "\n",
    "---\n",
    "\n",
    "### Exercise 36:\n",
    "Assign a string and an integer to two different variables, then print both on one line.\n",
    "\n",
    "```python\n",
    "# Exercise 36\n",
    "```\n",
    "\n",
    "---\n",
    "\n",
    "### Exercise 37:\n",
    "Reassign a variable that originally held a number to a boolean value.\n",
    "\n",
    "```python\n",
    "# Exercise 37\n",
    "```\n",
    "\n",
    "---\n",
    "\n",
    "### Exercise 38:\n",
    "Create a variable `is_weekend` and assign it the result of `False`.\n",
    "\n",
    "```python\n",
    "# Exercise 38\n",
    "```\n",
    "\n",
    "---\n",
    "\n",
    "### Exercise 39:\n",
    "Assign a multi-line string to a variable `description`.\n",
    "\n",
    "```python\n",
    "# Exercise 39\n",
    "```\n",
    "\n",
    "---\n",
    "\n",
    "### Exercise 40:\n",
    "Use variables to store the result of the absolute value of `-25`.\n",
    "\n",
    "```python\n",
    "# Exercise 40\n",
    "```\n",
    "\n",
    "---\n",
    "\n",
    "### Exercise 41:\n",
    "Assign the result of a floor division `100 // 6` to a variable `floor_div_result`.\n",
    "\n",
    "```python\n",
    "# Exercise 41\n",
    "```\n",
    "\n",
    "---\n",
    "\n",
    "### Exercise 42:\n",
    "Assign the result of adding a floating-point number to an integer to a variable `mixed_sum`.\n",
    "\n",
    "```python\n",
    "# Exercise 42\n",
    "```\n",
    "\n",
    "---\n",
    "\n",
    "### Exercise 43:\n",
    "Use variables to store a combination of string concatenation.\n",
    "\n",
    "```python\n",
    "# Exercise 43\n",
    "```\n",
    "\n",
    "---\n",
    "\n",
    "### Exercise 44:\n",
    "Assign an empty list to a variable `empty_list`.\n",
    "\n",
    "```python\n",
    "# Exercise 44\n",
    "```\n",
    "\n",
    "---\n",
    "\n",
    "### Exercise 45:\n",
    "Assign a boolean value based on the comparison of two variables `a = 10` and `b = 15`.\n",
    "\n",
    "```python\n",
    "# Exercise 45\n",
    "```\n",
    "\n",
    "---\n",
    "\n",
    "### Exercise 46:\n",
    "Assign a long sentence to a variable and count its characters using `len()`.\n",
    "\n",
    "```python\n",
    "# Exercise 46\n",
    "```\n",
    "\n",
    "---\n",
    "\n",
    "### Exercise 47:\n",
    "Assign a fractional result `7 / 3` to a variable `division_result`.\n",
    "\n",
    "```python\n",
    "# Exercise 47\n",
    "```\n",
    "\n",
    "---\n",
    "\n",
    "### Exercise 48:\n",
    "Create a variable `speed` and assign it the value of 100 kilometers per hour.\n",
    "\n",
    "```python\n",
    "# Exercise 48\n",
    "```\n",
    "\n",
    "---\n",
    "\n",
    "### Exercise 49:\n",
    "Assign a multi-variable equation like `y = 3x + 5` where `x = 4` to a variable `y`.\n",
    "\n",
    "```python\n",
    "# Exercise 49\n",
    "```\n",
    "\n",
    "---\n",
    "\n",
    "### Exercise 50:\n",
    "Use variables to calculate and store the average of three numbers.\n",
    "\n",
    "```python\n",
    "# Exercise 50\n",
    "```\n",
    "\n",
    "****"
   ]
  },
  {
   "cell_type": "markdown",
   "id": "2c17f7c1",
   "metadata": {},
   "source": [
    "# EXERCISE 1"
   ]
  },
  {
   "cell_type": "code",
   "execution_count": 11,
   "id": "2774ddfc",
   "metadata": {},
   "outputs": [
    {
     "name": "stdout",
     "output_type": "stream",
     "text": [
      "10\n"
     ]
    }
   ],
   "source": [
    "X = 10\n",
    "print(X)"
   ]
  },
  {
   "cell_type": "markdown",
   "id": "b6e97a23",
   "metadata": {},
   "source": [
    "# EXERCISE 2"
   ]
  },
  {
   "cell_type": "code",
   "execution_count": 12,
   "id": "5ddb3e2b",
   "metadata": {},
   "outputs": [
    {
     "name": "stdout",
     "output_type": "stream",
     "text": [
      "True\n"
     ]
    }
   ],
   "source": [
    "is_valid = True\n",
    "print(is_valid)"
   ]
  },
  {
   "cell_type": "markdown",
   "id": "a4c077f5",
   "metadata": {},
   "source": [
    "# EXERCISE 3"
   ]
  },
  {
   "cell_type": "code",
   "execution_count": 13,
   "id": "e6d34b1d",
   "metadata": {},
   "outputs": [
    {
     "name": "stdout",
     "output_type": "stream",
     "text": [
      "Python Programming\n"
     ]
    }
   ],
   "source": [
    "name = \"Python Programming\"\n",
    "print(name)"
   ]
  },
  {
   "cell_type": "markdown",
   "id": "c8d89357",
   "metadata": {},
   "source": [
    "# EXERCISE 4"
   ]
  },
  {
   "cell_type": "code",
   "execution_count": 14,
   "id": "15c11247",
   "metadata": {},
   "outputs": [
    {
     "name": "stdout",
     "output_type": "stream",
     "text": [
      "8\n"
     ]
    }
   ],
   "source": [
    "sum_result = 5 + 3\n",
    "print(sum_result)"
   ]
  },
  {
   "cell_type": "markdown",
   "id": "a2d1b41c",
   "metadata": {},
   "source": [
    "# EXERCISE 5"
   ]
  },
  {
   "cell_type": "code",
   "execution_count": 15,
   "id": "e6d1f903",
   "metadata": {},
   "outputs": [
    {
     "name": "stdout",
     "output_type": "stream",
     "text": [
      "5 10 15\n"
     ]
    }
   ],
   "source": [
    "a, b, c = 5, 10, 15\n",
    "print(a, b, c)"
   ]
  },
  {
   "cell_type": "markdown",
   "id": "f650afa1",
   "metadata": {},
   "source": [
    "# EXERCISE 6"
   ]
  },
  {
   "cell_type": "code",
   "execution_count": 16,
   "id": "634fbab2",
   "metadata": {},
   "outputs": [
    {
     "name": "stdout",
     "output_type": "stream",
     "text": [
      "10\n",
      "10\n"
     ]
    }
   ],
   "source": [
    "x = 10\n",
    "y = x\n",
    "print(x)\n",
    "print(y)"
   ]
  },
  {
   "cell_type": "markdown",
   "id": "437d3f12",
   "metadata": {},
   "source": [
    "# EXERCISE 7"
   ]
  },
  {
   "cell_type": "code",
   "execution_count": 7,
   "id": "d6f4a3b7",
   "metadata": {},
   "outputs": [],
   "source": [
    "gravity = 9.8"
   ]
  },
  {
   "cell_type": "markdown",
   "id": "237662af",
   "metadata": {},
   "source": [
    "# EXERCISE 8"
   ]
  },
  {
   "cell_type": "code",
   "execution_count": 17,
   "id": "a78a1947",
   "metadata": {},
   "outputs": [
    {
     "name": "stdout",
     "output_type": "stream",
     "text": [
      "Rwanda\n"
     ]
    }
   ],
   "source": [
    "country = \"Rwanda\"\n",
    "print(country)"
   ]
  },
  {
   "cell_type": "markdown",
   "id": "3b73b3e1",
   "metadata": {},
   "source": [
    "# EXERCISE 9"
   ]
  },
  {
   "cell_type": "code",
   "execution_count": 9,
   "id": "bae8e314",
   "metadata": {},
   "outputs": [
    {
     "name": "stdout",
     "output_type": "stream",
     "text": [
      "25\n",
      "26\n"
     ]
    }
   ],
   "source": [
    "age = 25\n",
    "age1 = age + 1\n",
    "print(age)\n",
    "print(age1)"
   ]
  },
  {
   "cell_type": "markdown",
   "id": "18f2e05d",
   "metadata": {},
   "source": [
    "# EXERCISE 10"
   ]
  },
  {
   "cell_type": "code",
   "execution_count": 10,
   "id": "a8c79e03",
   "metadata": {},
   "outputs": [
    {
     "name": "stdout",
     "output_type": "stream",
     "text": [
      "13\n"
     ]
    }
   ],
   "source": [
    "result = 20 - 7\n",
    "print(result)"
   ]
  },
  {
   "cell_type": "markdown",
   "id": "de837a7c",
   "metadata": {},
   "source": [
    "# EXERCISE 11"
   ]
  },
  {
   "cell_type": "code",
   "execution_count": 18,
   "id": "8947cdd9",
   "metadata": {},
   "outputs": [
    {
     "name": "stdout",
     "output_type": "stream",
     "text": [
      "10\n",
      "3.14\n"
     ]
    }
   ],
   "source": [
    "Integer = 10\n",
    "Float = 3.14\n",
    "print(Integer)\n",
    "print(Float)"
   ]
  },
  {
   "cell_type": "markdown",
   "id": "31ccc4ec",
   "metadata": {},
   "source": [
    "# EXERCISE 12"
   ]
  },
  {
   "cell_type": "code",
   "execution_count": 19,
   "id": "06b11aaf",
   "metadata": {},
   "outputs": [
    {
     "name": "stdout",
     "output_type": "stream",
     "text": [
      "False\n"
     ]
    }
   ],
   "source": [
    "is_completed = False\n",
    "print(is_completed)"
   ]
  },
  {
   "cell_type": "markdown",
   "id": "70e97623",
   "metadata": {},
   "source": [
    "# EXERCISE 13"
   ]
  },
  {
   "cell_type": "code",
   "execution_count": 20,
   "id": "59ba0194",
   "metadata": {},
   "outputs": [],
   "source": [
    "x = 5\n",
    "y = 10\n",
    "x, y = y, x"
   ]
  },
  {
   "cell_type": "markdown",
   "id": "207043aa",
   "metadata": {},
   "source": [
    "# EXERCISE 14"
   ]
  },
  {
   "cell_type": "code",
   "execution_count": 21,
   "id": "f51187be",
   "metadata": {},
   "outputs": [],
   "source": [
    "complex_num = 3 + 4j"
   ]
  },
  {
   "cell_type": "markdown",
   "id": "5569dd37",
   "metadata": {},
   "source": [
    "# EXERCISE 15"
   ]
  },
  {
   "cell_type": "code",
   "execution_count": null,
   "id": "79965b68",
   "metadata": {},
   "outputs": [],
   "source": []
  },
  {
   "cell_type": "markdown",
   "id": "9e1bf9ec",
   "metadata": {},
   "source": [
    "#  EXERCISE 16"
   ]
  },
  {
   "cell_type": "code",
   "execution_count": 22,
   "id": "941efc91",
   "metadata": {},
   "outputs": [
    {
     "name": "stdout",
     "output_type": "stream",
     "text": [
      "Chance UWUMUKIZA\n"
     ]
    }
   ],
   "source": [
    "first_name = \"Chance\"\n",
    "last_name = \"UWUMUKIZA\"\n",
    "print(first_name, last_name)"
   ]
  },
  {
   "cell_type": "markdown",
   "id": "ff7df3b5",
   "metadata": {},
   "source": [
    "# EXERCISE 17"
   ]
  },
  {
   "cell_type": "code",
   "execution_count": 24,
   "id": "3068b4de",
   "metadata": {},
   "outputs": [
    {
     "name": "stdout",
     "output_type": "stream",
     "text": [
      "35.5\n"
     ]
    }
   ],
   "source": [
    "Temperature = 35.5\n",
    "print(Temperature)"
   ]
  },
  {
   "cell_type": "markdown",
   "id": "cabc313b",
   "metadata": {},
   "source": [
    "# EXERCISE 18"
   ]
  },
  {
   "cell_type": "code",
   "execution_count": 25,
   "id": "b8e7619a",
   "metadata": {},
   "outputs": [
    {
     "name": "stdout",
     "output_type": "stream",
     "text": [
      "48\n"
     ]
    }
   ],
   "source": [
    "product = 8 * 6\n",
    "print(product)"
   ]
  },
  {
   "cell_type": "markdown",
   "id": "0f4bab30",
   "metadata": {},
   "source": [
    "# EXERCISE 19"
   ]
  },
  {
   "cell_type": "code",
   "execution_count": 26,
   "id": "004e4903",
   "metadata": {},
   "outputs": [
    {
     "name": "stdout",
     "output_type": "stream",
     "text": [
      "I'm learning Python\n"
     ]
    }
   ],
   "source": [
    "sentence = \"I'm learning Python\"\n",
    "print(sentence)"
   ]
  },
  {
   "cell_type": "markdown",
   "id": "bcb87b0e",
   "metadata": {},
   "source": [
    "# EXERCISE 20"
   ]
  },
  {
   "cell_type": "code",
   "execution_count": 27,
   "id": "60592e2c",
   "metadata": {},
   "outputs": [
    {
     "name": "stdout",
     "output_type": "stream",
     "text": [
      "50\n"
     ]
    }
   ],
   "source": [
    "int_value = int('50')\n",
    "print(int_value)"
   ]
  },
  {
   "cell_type": "markdown",
   "id": "d5d4b191",
   "metadata": {},
   "source": [
    "#  EXERCISE  21"
   ]
  },
  {
   "cell_type": "code",
   "execution_count": 29,
   "id": "ac0fd601",
   "metadata": {},
   "outputs": [
    {
     "name": "stdout",
     "output_type": "stream",
     "text": [
      "12\n"
     ]
    }
   ],
   "source": [
    "quotient = 144 // 12\n",
    "print(quotient)"
   ]
  },
  {
   "cell_type": "markdown",
   "id": "964ff42e",
   "metadata": {},
   "source": [
    "# EXERCISE 22"
   ]
  },
  {
   "cell_type": "code",
   "execution_count": 30,
   "id": "a6636eb5",
   "metadata": {},
   "outputs": [
    {
     "name": "stdout",
     "output_type": "stream",
     "text": [
      "2\n"
     ]
    }
   ],
   "source": [
    "remainder = 47 % 5\n",
    "print(remainder)"
   ]
  },
  {
   "cell_type": "markdown",
   "id": "0a4bab5e",
   "metadata": {},
   "source": [
    "# EXERCISE 23"
   ]
  },
  {
   "cell_type": "code",
   "execution_count": 31,
   "id": "3fb00824",
   "metadata": {},
   "outputs": [
    {
     "name": "stdout",
     "output_type": "stream",
     "text": [
      "True\n"
     ]
    }
   ],
   "source": [
    "is_student = True\n",
    "print(is_student)"
   ]
  },
  {
   "cell_type": "markdown",
   "id": "36638e69",
   "metadata": {},
   "source": [
    "# EXERCISE 24"
   ]
  },
  {
   "cell_type": "code",
   "execution_count": 32,
   "id": "633771d4",
   "metadata": {},
   "outputs": [
    {
     "name": "stdout",
     "output_type": "stream",
     "text": [
      "1\n"
     ]
    }
   ],
   "source": [
    "remainder = 45 % 4\n",
    "print(remainder)"
   ]
  },
  {
   "cell_type": "markdown",
   "id": "8ab48de7",
   "metadata": {},
   "source": [
    "# EXERCISE 25"
   ]
  },
  {
   "cell_type": "code",
   "execution_count": 33,
   "id": "48d6c788",
   "metadata": {},
   "outputs": [
    {
     "name": "stdout",
     "output_type": "stream",
     "text": [
      "3.14159\n"
     ]
    }
   ],
   "source": [
    "pi = 3.14159\n",
    "print(pi)"
   ]
  },
  {
   "cell_type": "markdown",
   "id": "f555877d",
   "metadata": {},
   "source": [
    "# EXERCISE 26"
   ]
  },
  {
   "cell_type": "code",
   "execution_count": 34,
   "id": "81d1cdd5",
   "metadata": {},
   "outputs": [
    {
     "name": "stdout",
     "output_type": "stream",
     "text": [
      "The area of the rectangle is: 50 square units.\n"
     ]
    }
   ],
   "source": [
    "length = 10   \n",
    "width = 5     \n",
    "\n",
    "area = length * width   \n",
    "print(f\"The area of the rectangle is: {area} square units.\")"
   ]
  },
  {
   "cell_type": "markdown",
   "id": "b828279a",
   "metadata": {},
   "source": [
    "# EXERCISE 27"
   ]
  },
  {
   "cell_type": "code",
   "execution_count": 36,
   "id": "e8723abd",
   "metadata": {},
   "outputs": [
    {
     "name": "stdout",
     "output_type": "stream",
     "text": [
      "-25\n"
     ]
    }
   ],
   "source": [
    "negative_value = -25\n",
    "print(negative_value)"
   ]
  },
  {
   "cell_type": "markdown",
   "id": "2bab48a5",
   "metadata": {},
   "source": [
    "# EXERCISE 28"
   ]
  },
  {
   "cell_type": "code",
   "execution_count": 37,
   "id": "07ebc611",
   "metadata": {},
   "outputs": [
    {
     "name": "stdout",
     "output_type": "stream",
     "text": [
      "Hello, World!\n"
     ]
    }
   ],
   "source": [
    "greeting = \"Hello, World!\"\n",
    "print(greeting)"
   ]
  },
  {
   "cell_type": "markdown",
   "id": "89fe61a2",
   "metadata": {},
   "source": [
    "# EXERCISE 29"
   ]
  },
  {
   "cell_type": "code",
   "execution_count": 38,
   "id": "f973bfc2",
   "metadata": {},
   "outputs": [
    {
     "name": "stdout",
     "output_type": "stream",
     "text": [
      "World population: 8000000000\n"
     ]
    }
   ],
   "source": [
    "population = 8_000_000_000   \n",
    "print(f\"World population: {population}\")"
   ]
  },
  {
   "cell_type": "code",
   "execution_count": 39,
   "id": "7410a3ab",
   "metadata": {},
   "outputs": [
    {
     "name": "stdout",
     "output_type": "stream",
     "text": [
      "8000000000\n"
     ]
    }
   ],
   "source": [
    "population = 8_000_000_000   \n",
    "print(population)"
   ]
  },
  {
   "cell_type": "markdown",
   "id": "20d90bce",
   "metadata": {},
   "source": [
    "# EXERCISE 30"
   ]
  },
  {
   "cell_type": "code",
   "execution_count": 40,
   "id": "95fe2993",
   "metadata": {},
   "outputs": [
    {
     "name": "stdout",
     "output_type": "stream",
     "text": [
      "256\n"
     ]
    }
   ],
   "source": [
    "result = 2 ** 8\n",
    "print(result)"
   ]
  },
  {
   "cell_type": "markdown",
   "id": "9cc0c47e",
   "metadata": {},
   "source": [
    "# EXERCISE 31"
   ]
  },
  {
   "cell_type": "code",
   "execution_count": 42,
   "id": "8c6288f3",
   "metadata": {},
   "outputs": [
    {
     "name": "stdout",
     "output_type": "stream",
     "text": [
      "['apple', 'banana', 'mango']\n"
     ]
    }
   ],
   "source": [
    "fruits = [\"apple\", \"banana\", \"mango\"]\n",
    "print(fruits)"
   ]
  },
  {
   "cell_type": "markdown",
   "id": "3cb102bd",
   "metadata": {},
   "source": [
    "# EXERCISE 32"
   ]
  },
  {
   "cell_type": "code",
   "execution_count": 43,
   "id": "70fc5abb",
   "metadata": {},
   "outputs": [
    {
     "name": "stdout",
     "output_type": "stream",
     "text": [
      "(10, 20, 30) <class 'tuple'>\n"
     ]
    }
   ],
   "source": [
    "coordinates = (10, 20, 30)\n",
    "print(coordinates, type(coordinates))"
   ]
  },
  {
   "cell_type": "markdown",
   "id": "c2fcf0b1",
   "metadata": {},
   "source": [
    "# EXERCISE 33"
   ]
  },
  {
   "cell_type": "code",
   "execution_count": 45,
   "id": "10159dd5",
   "metadata": {},
   "outputs": [
    {
     "name": "stdout",
     "output_type": "stream",
     "text": [
      "{'name': 'John Doe', 'age': 30} <class 'dict'>\n"
     ]
    }
   ],
   "source": [
    "person = {\"name\": \"John Doe\", \"age\": 30}\n",
    "print(person, type(person))"
   ]
  },
  {
   "cell_type": "markdown",
   "id": "c747df88",
   "metadata": {},
   "source": [
    "# EXERCISE 34"
   ]
  },
  {
   "cell_type": "code",
   "execution_count": 47,
   "id": "e99e4554",
   "metadata": {},
   "outputs": [
    {
     "name": "stdout",
     "output_type": "stream",
     "text": [
      "5.85\n"
     ]
    }
   ],
   "source": [
    "num1 = 3.14\n",
    "num2 = 2.71\n",
    "sum_result = num1 + num2\n",
    "print(sum_result)"
   ]
  },
  {
   "cell_type": "markdown",
   "id": "b6fc69a0",
   "metadata": {},
   "source": [
    "# EXERCISE 35"
   ]
  },
  {
   "cell_type": "code",
   "execution_count": 49,
   "id": "d61ed136",
   "metadata": {},
   "outputs": [
    {
     "name": "stdout",
     "output_type": "stream",
     "text": [
      "True\n"
     ]
    }
   ],
   "source": [
    "is_sunny = 10 > 5\n",
    "print(is_sunny)"
   ]
  },
  {
   "cell_type": "markdown",
   "id": "17a0acee",
   "metadata": {},
   "source": [
    "# EXERCISE 36"
   ]
  },
  {
   "cell_type": "code",
   "execution_count": 50,
   "id": "b9677cf1",
   "metadata": {},
   "outputs": [
    {
     "name": "stdout",
     "output_type": "stream",
     "text": [
      "My name is Alice and I am 30 years old.\n"
     ]
    }
   ],
   "source": [
    "name = \"Alice\"\n",
    "age = 30\n",
    "print(f\"My name is {name} and I am {age} years old.\")"
   ]
  },
  {
   "cell_type": "markdown",
   "id": "d464917c",
   "metadata": {},
   "source": [
    "# EXERCISE 37"
   ]
  },
  {
   "cell_type": "code",
   "execution_count": 51,
   "id": "67af9f8a",
   "metadata": {},
   "outputs": [
    {
     "name": "stdout",
     "output_type": "stream",
     "text": [
      "3\n"
     ]
    }
   ],
   "source": [
    "result = True + 2\n",
    "print(result)"
   ]
  },
  {
   "cell_type": "markdown",
   "id": "0a89b56c",
   "metadata": {},
   "source": [
    "# EXERCISE 38"
   ]
  },
  {
   "cell_type": "code",
   "execution_count": 52,
   "id": "9dfea8b7",
   "metadata": {},
   "outputs": [
    {
     "name": "stdout",
     "output_type": "stream",
     "text": [
      "False\n"
     ]
    }
   ],
   "source": [
    "is_weekend = False\n",
    "print(is_weekend)"
   ]
  },
  {
   "cell_type": "markdown",
   "id": "172c7fbb",
   "metadata": {},
   "source": [
    "# EXERCISE 39"
   ]
  },
  {
   "cell_type": "code",
   "execution_count": 53,
   "id": "1dd4eb23",
   "metadata": {},
   "outputs": [
    {
     "name": "stdout",
     "output_type": "stream",
     "text": [
      "This is a multi-line string.\n",
      "It can be lines.\n",
      "Each line is written.\n"
     ]
    }
   ],
   "source": [
    "description = \"\"\"This is a multi-line string.\n",
    "It can be lines.\n",
    "Each line is written.\"\"\"\n",
    "print(description)"
   ]
  },
  {
   "cell_type": "markdown",
   "id": "27c76c5c",
   "metadata": {},
   "source": [
    "# EXERCISE 40"
   ]
  },
  {
   "cell_type": "code",
   "execution_count": 54,
   "id": "5db5969f",
   "metadata": {},
   "outputs": [
    {
     "name": "stdout",
     "output_type": "stream",
     "text": [
      "25\n"
     ]
    }
   ],
   "source": [
    "number = -25\n",
    "absolute_value = abs(number)\n",
    "print(absolute_value)"
   ]
  },
  {
   "cell_type": "markdown",
   "id": "262f4f3f",
   "metadata": {},
   "source": [
    "# EXERCISE 41"
   ]
  },
  {
   "cell_type": "code",
   "execution_count": 55,
   "id": "20faf7b7",
   "metadata": {},
   "outputs": [
    {
     "name": "stdout",
     "output_type": "stream",
     "text": [
      "16\n"
     ]
    }
   ],
   "source": [
    "floor_div_result = 100 // 6\n",
    "print(floor_div_result)"
   ]
  },
  {
   "cell_type": "markdown",
   "id": "2892a278",
   "metadata": {},
   "source": [
    "# EXERCISE 42"
   ]
  },
  {
   "cell_type": "code",
   "execution_count": 57,
   "id": "8dc21772",
   "metadata": {},
   "outputs": [
    {
     "name": "stdout",
     "output_type": "stream",
     "text": [
      "5.5\n"
     ]
    }
   ],
   "source": [
    "mixed_sum = 3.5 + 2\n",
    "print(mixed_sum)"
   ]
  },
  {
   "cell_type": "markdown",
   "id": "ef5e7d7c",
   "metadata": {},
   "source": [
    "# EXERCISE 43"
   ]
  },
  {
   "cell_type": "code",
   "execution_count": 58,
   "id": "dd37272d",
   "metadata": {},
   "outputs": [
    {
     "name": "stdout",
     "output_type": "stream",
     "text": [
      "Hello, Alice!\n"
     ]
    }
   ],
   "source": [
    "greeting = \"Hello\"\n",
    "name = \"Alice\"\n",
    "combined = greeting + \", \" + name + \"!\"\n",
    "print(combined)  "
   ]
  },
  {
   "cell_type": "markdown",
   "id": "f4ce45bf",
   "metadata": {},
   "source": [
    "# EXERCISE 44"
   ]
  },
  {
   "cell_type": "code",
   "execution_count": 59,
   "id": "0aefbce8",
   "metadata": {},
   "outputs": [
    {
     "name": "stdout",
     "output_type": "stream",
     "text": [
      "[]\n"
     ]
    }
   ],
   "source": [
    "empty_list = []\n",
    "print(empty_list) "
   ]
  },
  {
   "cell_type": "markdown",
   "id": "3ae64210",
   "metadata": {},
   "source": [
    "# EXERCISE 45"
   ]
  },
  {
   "cell_type": "code",
   "execution_count": 60,
   "id": "eb9ac30d",
   "metadata": {},
   "outputs": [
    {
     "name": "stdout",
     "output_type": "stream",
     "text": [
      "False\n"
     ]
    }
   ],
   "source": [
    "a = 10\n",
    "b = 15\n",
    "is_a_greater = a > b\n",
    "print(is_a_greater) "
   ]
  },
  {
   "cell_type": "markdown",
   "id": "56eb55cd",
   "metadata": {},
   "source": [
    "# EXERCISE 46"
   ]
  },
  {
   "cell_type": "code",
   "execution_count": 61,
   "id": "759455de",
   "metadata": {},
   "outputs": [
    {
     "name": "stdout",
     "output_type": "stream",
     "text": [
      "33\n"
     ]
    }
   ],
   "source": [
    "sentence = \"Python is a programming language.\"\n",
    "char_count = len(sentence)\n",
    "print(char_count)"
   ]
  },
  {
   "cell_type": "markdown",
   "id": "283fbff1",
   "metadata": {},
   "source": [
    "# EXERCISE 47"
   ]
  },
  {
   "cell_type": "code",
   "execution_count": 62,
   "id": "a4fd9461",
   "metadata": {},
   "outputs": [
    {
     "name": "stdout",
     "output_type": "stream",
     "text": [
      "2.3333333333333335\n"
     ]
    }
   ],
   "source": [
    "division_result = 7/3\n",
    "print(division_result)"
   ]
  },
  {
   "cell_type": "markdown",
   "id": "d341ee57",
   "metadata": {},
   "source": [
    "# EXERCISE 48"
   ]
  },
  {
   "cell_type": "code",
   "execution_count": 63,
   "id": "60bf9a84",
   "metadata": {},
   "outputs": [
    {
     "name": "stdout",
     "output_type": "stream",
     "text": [
      "100\n"
     ]
    }
   ],
   "source": [
    "speed = 100   \n",
    "print(speed)  "
   ]
  },
  {
   "cell_type": "markdown",
   "id": "35c31f7b",
   "metadata": {},
   "source": [
    "# EXERCISE 49"
   ]
  },
  {
   "cell_type": "code",
   "execution_count": 64,
   "id": "c5cb8983",
   "metadata": {},
   "outputs": [
    {
     "name": "stdout",
     "output_type": "stream",
     "text": [
      "17\n"
     ]
    }
   ],
   "source": [
    "x = 4\n",
    "y = 3 * x + 5\n",
    "print(y)"
   ]
  },
  {
   "cell_type": "markdown",
   "id": "fbdce356",
   "metadata": {},
   "source": [
    "# EXERCISE 50"
   ]
  },
  {
   "cell_type": "code",
   "execution_count": 65,
   "id": "42d6b006",
   "metadata": {},
   "outputs": [
    {
     "name": "stdout",
     "output_type": "stream",
     "text": [
      "20.0\n"
     ]
    }
   ],
   "source": [
    "num1 = 10\n",
    "num2 = 20\n",
    "num3 = 30\n",
    "average = (num1 + num2 + num3) / 3\n",
    "print(average)"
   ]
  },
  {
   "cell_type": "code",
   "execution_count": null,
   "id": "b8b0b79f",
   "metadata": {},
   "outputs": [],
   "source": []
  }
 ],
 "metadata": {
  "kernelspec": {
   "display_name": "Python 3 (ipykernel)",
   "language": "python",
   "name": "python3"
  },
  "language_info": {
   "codemirror_mode": {
    "name": "ipython",
    "version": 3
   },
   "file_extension": ".py",
   "mimetype": "text/x-python",
   "name": "python",
   "nbconvert_exporter": "python",
   "pygments_lexer": "ipython3",
   "version": "3.10.9"
  }
 },
 "nbformat": 4,
 "nbformat_minor": 5
}
